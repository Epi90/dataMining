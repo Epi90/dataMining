{
 "cells": [
  {
   "cell_type": "markdown",
   "metadata": {},
   "source": [
    "# Data Mining and Probabilistic Reasoning, WS18/19\n",
    "\n",
    "\n",
    "Dr. Gjergji Kasneci, The University of Tübingen"
   ]
  },
  {
   "cell_type": "markdown",
   "metadata": {},
   "source": [
    "-----\n",
    "## Introduction to binary classification\n",
    "-----\n",
    "\n",
    "###### Date 19/11/2018\n",
    "\n",
    "Teaching assistants:\n",
    "\n",
    " - Vadim Borisov (vadim.borisov@uni-tuebingen.de)\n",
    "\n",
    " - Johannes Haug (johannes-christian.haug@uni-tuebingen.de)"
   ]
  },
  {
   "cell_type": "code",
   "execution_count": 1,
   "metadata": {},
   "outputs": [],
   "source": [
    "import numpy as np\n",
    "import pandas as pd\n",
    "import matplotlib.pyplot as plt\n",
    "from sklearn import neighbors\n",
    "from sklearn import tree\n",
    "from sklearn import preprocessing\n",
    "from sklearn.model_selection import train_test_split\n",
    "from sklearn.metrics import accuracy_score\n",
    "plt.style.use('ggplot')"
   ]
  },
  {
   "cell_type": "markdown",
   "metadata": {},
   "source": [
    "-----\n",
    "# Rescaling & Data Partitioning"
   ]
  },
  {
   "cell_type": "code",
   "execution_count": 2,
   "metadata": {},
   "outputs": [
    {
     "data": {
      "text/html": [
       "<div>\n",
       "<style scoped>\n",
       "    .dataframe tbody tr th:only-of-type {\n",
       "        vertical-align: middle;\n",
       "    }\n",
       "\n",
       "    .dataframe tbody tr th {\n",
       "        vertical-align: top;\n",
       "    }\n",
       "\n",
       "    .dataframe thead th {\n",
       "        text-align: right;\n",
       "    }\n",
       "</style>\n",
       "<table border=\"1\" class=\"dataframe\">\n",
       "  <thead>\n",
       "    <tr style=\"text-align: right;\">\n",
       "      <th></th>\n",
       "      <th>Age</th>\n",
       "      <th>Sex</th>\n",
       "      <th>Job</th>\n",
       "      <th>Credit amount</th>\n",
       "      <th>Duration</th>\n",
       "      <th>Risk</th>\n",
       "      <th>Housing_own</th>\n",
       "      <th>Housing_free</th>\n",
       "      <th>Housing_rent</th>\n",
       "      <th>Purpose_radio/TV</th>\n",
       "      <th>...</th>\n",
       "      <th>Purpose_domestic appliances</th>\n",
       "      <th>Purpose_repairs</th>\n",
       "      <th>Purpose_vacation/others</th>\n",
       "      <th>Saving accounts_little</th>\n",
       "      <th>Saving accounts_quite rich</th>\n",
       "      <th>Saving accounts_rich</th>\n",
       "      <th>Saving accounts_moderate</th>\n",
       "      <th>Checking account_little</th>\n",
       "      <th>Checking account_moderate</th>\n",
       "      <th>Checking account_rich</th>\n",
       "    </tr>\n",
       "  </thead>\n",
       "  <tbody>\n",
       "    <tr>\n",
       "      <th>0</th>\n",
       "      <td>67</td>\n",
       "      <td>0</td>\n",
       "      <td>2</td>\n",
       "      <td>1169</td>\n",
       "      <td>6</td>\n",
       "      <td>0</td>\n",
       "      <td>1</td>\n",
       "      <td>0</td>\n",
       "      <td>0</td>\n",
       "      <td>1</td>\n",
       "      <td>...</td>\n",
       "      <td>0</td>\n",
       "      <td>0</td>\n",
       "      <td>0</td>\n",
       "      <td>1</td>\n",
       "      <td>0</td>\n",
       "      <td>0</td>\n",
       "      <td>0</td>\n",
       "      <td>1</td>\n",
       "      <td>0</td>\n",
       "      <td>0</td>\n",
       "    </tr>\n",
       "    <tr>\n",
       "      <th>1</th>\n",
       "      <td>22</td>\n",
       "      <td>1</td>\n",
       "      <td>2</td>\n",
       "      <td>5951</td>\n",
       "      <td>48</td>\n",
       "      <td>1</td>\n",
       "      <td>1</td>\n",
       "      <td>0</td>\n",
       "      <td>0</td>\n",
       "      <td>1</td>\n",
       "      <td>...</td>\n",
       "      <td>0</td>\n",
       "      <td>0</td>\n",
       "      <td>0</td>\n",
       "      <td>1</td>\n",
       "      <td>0</td>\n",
       "      <td>0</td>\n",
       "      <td>0</td>\n",
       "      <td>0</td>\n",
       "      <td>1</td>\n",
       "      <td>0</td>\n",
       "    </tr>\n",
       "    <tr>\n",
       "      <th>2</th>\n",
       "      <td>49</td>\n",
       "      <td>0</td>\n",
       "      <td>1</td>\n",
       "      <td>2096</td>\n",
       "      <td>12</td>\n",
       "      <td>0</td>\n",
       "      <td>1</td>\n",
       "      <td>0</td>\n",
       "      <td>0</td>\n",
       "      <td>0</td>\n",
       "      <td>...</td>\n",
       "      <td>0</td>\n",
       "      <td>0</td>\n",
       "      <td>0</td>\n",
       "      <td>1</td>\n",
       "      <td>0</td>\n",
       "      <td>0</td>\n",
       "      <td>0</td>\n",
       "      <td>1</td>\n",
       "      <td>0</td>\n",
       "      <td>0</td>\n",
       "    </tr>\n",
       "    <tr>\n",
       "      <th>3</th>\n",
       "      <td>45</td>\n",
       "      <td>0</td>\n",
       "      <td>2</td>\n",
       "      <td>7882</td>\n",
       "      <td>42</td>\n",
       "      <td>0</td>\n",
       "      <td>0</td>\n",
       "      <td>1</td>\n",
       "      <td>0</td>\n",
       "      <td>0</td>\n",
       "      <td>...</td>\n",
       "      <td>0</td>\n",
       "      <td>0</td>\n",
       "      <td>0</td>\n",
       "      <td>1</td>\n",
       "      <td>0</td>\n",
       "      <td>0</td>\n",
       "      <td>0</td>\n",
       "      <td>1</td>\n",
       "      <td>0</td>\n",
       "      <td>0</td>\n",
       "    </tr>\n",
       "    <tr>\n",
       "      <th>4</th>\n",
       "      <td>53</td>\n",
       "      <td>0</td>\n",
       "      <td>2</td>\n",
       "      <td>4870</td>\n",
       "      <td>24</td>\n",
       "      <td>1</td>\n",
       "      <td>0</td>\n",
       "      <td>1</td>\n",
       "      <td>0</td>\n",
       "      <td>0</td>\n",
       "      <td>...</td>\n",
       "      <td>0</td>\n",
       "      <td>0</td>\n",
       "      <td>0</td>\n",
       "      <td>1</td>\n",
       "      <td>0</td>\n",
       "      <td>0</td>\n",
       "      <td>0</td>\n",
       "      <td>1</td>\n",
       "      <td>0</td>\n",
       "      <td>0</td>\n",
       "    </tr>\n",
       "  </tbody>\n",
       "</table>\n",
       "<p>5 rows × 24 columns</p>\n",
       "</div>"
      ],
      "text/plain": [
       "   Age  Sex  Job  Credit amount  Duration  Risk  Housing_own  Housing_free  \\\n",
       "0   67    0    2           1169         6     0            1             0   \n",
       "1   22    1    2           5951        48     1            1             0   \n",
       "2   49    0    1           2096        12     0            1             0   \n",
       "3   45    0    2           7882        42     0            0             1   \n",
       "4   53    0    2           4870        24     1            0             1   \n",
       "\n",
       "   Housing_rent  Purpose_radio/TV          ...            \\\n",
       "0             0                 1          ...             \n",
       "1             0                 1          ...             \n",
       "2             0                 0          ...             \n",
       "3             0                 0          ...             \n",
       "4             0                 0          ...             \n",
       "\n",
       "   Purpose_domestic appliances  Purpose_repairs  Purpose_vacation/others  \\\n",
       "0                            0                0                        0   \n",
       "1                            0                0                        0   \n",
       "2                            0                0                        0   \n",
       "3                            0                0                        0   \n",
       "4                            0                0                        0   \n",
       "\n",
       "   Saving accounts_little  Saving accounts_quite rich  Saving accounts_rich  \\\n",
       "0                       1                           0                     0   \n",
       "1                       1                           0                     0   \n",
       "2                       1                           0                     0   \n",
       "3                       1                           0                     0   \n",
       "4                       1                           0                     0   \n",
       "\n",
       "   Saving accounts_moderate  Checking account_little  \\\n",
       "0                         0                        1   \n",
       "1                         0                        0   \n",
       "2                         0                        1   \n",
       "3                         0                        1   \n",
       "4                         0                        1   \n",
       "\n",
       "   Checking account_moderate  Checking account_rich  \n",
       "0                          0                      0  \n",
       "1                          1                      0  \n",
       "2                          0                      0  \n",
       "3                          0                      0  \n",
       "4                          0                      0  \n",
       "\n",
       "[5 rows x 24 columns]"
      ]
     },
     "execution_count": 2,
     "metadata": {},
     "output_type": "execute_result"
    }
   ],
   "source": [
    "credit_unscaled = pd.read_csv('./data/cleaned_german_credit_data.csv', index_col=0)\n",
    "credit_unscaled.head()"
   ]
  },
  {
   "cell_type": "markdown",
   "metadata": {},
   "source": [
    "Since our dataset contains different units, it might increase the classification performance if we somewhat rescale the features of our dataset. The most common ways of rescaling are:\n",
    "- **Normalization:** rescale the data such that each value lies in a range from 0 to 1\n",
    "- **Standardization:** rescale the data such that the data has a mean of 0 and a standard deviation of 1\n",
    "<br><br>**Note:** Make sure that you don't rescale the target variable, since our classification models expect it to be a binary categorical variable"
   ]
  },
  {
   "cell_type": "code",
   "execution_count": 3,
   "metadata": {},
   "outputs": [
    {
     "name": "stderr",
     "output_type": "stream",
     "text": [
      "/home/vadim/anaconda3/lib/python3.6/site-packages/ipykernel_launcher.py:2: DataConversionWarning: Data with input dtype int64 were all converted to float64 by the scale function.\n",
      "  \n"
     ]
    }
   ],
   "source": [
    "credit_standardized = credit_unscaled[:]\n",
    "credit_standardized.loc[:, credit_standardized.columns != 'Risk'] =  preprocessing.scale(credit_standardized.loc[:, credit_standardized.columns != 'Risk'])\n",
    "\n",
    "credit_normalized = credit_unscaled[:]\n",
    "credit_normalized.loc[:, credit_normalized.columns != 'Risk'] = preprocessing.normalize(credit_normalized.loc[:, credit_normalized.columns != 'Risk'])\n",
    "\n",
    "credit_data = {'unscaled': credit_unscaled,\n",
    "              'standardized': credit_standardized,\n",
    "              'normalized': credit_normalized}"
   ]
  },
  {
   "cell_type": "markdown",
   "metadata": {},
   "source": [
    "To evaluate the classification performance of our models we want to apply the models to some data that was not previously seen. Therefore we split our initial dataset into a training and a test set. The training set is used to train the models. Afterwards we apply the models to our test set and evalute the classification accuracy of each model. More about data partitioning follows in the exercise about cross validation."
   ]
  },
  {
   "cell_type": "code",
   "execution_count": 4,
   "metadata": {},
   "outputs": [],
   "source": [
    "def partition_data(data, test_percent):\n",
    "    X = data.loc[:, data.columns != 'Risk']\n",
    "    y = data['Risk']\n",
    "\n",
    "    X_train, X_test, y_train, y_test = train_test_split(X, y, test_size=test_percent)\n",
    "    data_partitioned = {'X_train': X_train,\n",
    "                'X_test': X_test,\n",
    "                'y_train': y_train,\n",
    "                'y_test': y_test}\n",
    "    \n",
    "    return data_partitioned"
   ]
  },
  {
   "cell_type": "markdown",
   "metadata": {},
   "source": [
    "-----\n",
    "# K Nearest Neighbour"
   ]
  },
  {
   "cell_type": "code",
   "execution_count": 5,
   "metadata": {},
   "outputs": [],
   "source": [
    "def train_knn(k_neighbours, X_train, y_train, X_test):\n",
    "    knn_model = neighbors.KNeighborsClassifier(k_neighbours, weights='distance') # weight neighbours based on their distance to the datapoint: closer neighbours get higher weights\n",
    "    knn_model.fit(X_train, y_train)\n",
    "\n",
    "    y_hat = knn_model.predict(X_test)\n",
    "    return y_hat"
   ]
  },
  {
   "cell_type": "markdown",
   "metadata": {},
   "source": [
    "-----\n",
    "# Decision Tree"
   ]
  },
  {
   "cell_type": "code",
   "execution_count": 6,
   "metadata": {},
   "outputs": [],
   "source": [
    "def train_dctree(X_train, y_train, X_test):\n",
    "    dctree_model = tree.DecisionTreeClassifier()\n",
    "    dctree_model.fit(X_train, y_train)\n",
    "    \n",
    "    y_hat = dctree_model.predict(X_test)\n",
    "    return y_hat"
   ]
  },
  {
   "cell_type": "markdown",
   "metadata": {},
   "source": [
    "-----\n",
    "# Model evaluation"
   ]
  },
  {
   "cell_type": "code",
   "execution_count": 7,
   "metadata": {},
   "outputs": [
    {
     "name": "stdout",
     "output_type": "stream",
     "text": [
      "------\n",
      "Classification accuracy for unscaled dataset with KNN: 66.14%\n",
      "Classification accuracy for unscaled dataset with Decision Tree: 61.11%\n",
      "------\n",
      "Classification accuracy for standardized dataset with KNN: 70.47%\n",
      "Classification accuracy for standardized dataset with Decision Tree: 62.59%\n",
      "------\n",
      "Classification accuracy for normalized dataset with KNN: 69.51%\n",
      "Classification accuracy for normalized dataset with Decision Tree: 61.84%\n"
     ]
    }
   ],
   "source": [
    "for dataset in credit_data:\n",
    "    knn_acc = []\n",
    "    dctree_acc = []\n",
    "    \n",
    "    for i in range(20): # average the classification accuracy of 20 runs to get a more stable result\n",
    "        d = partition_data(credit_data[dataset], 0.2)\n",
    "        \n",
    "        knn_pred = train_knn(10, d['X_train'], d['y_train'], d['X_test'])\n",
    "        knn_acc.append(accuracy_score(d['y_test'], knn_pred))\n",
    "        \n",
    "        dctree_pred = train_dctree(d['X_train'], d['y_train'], d['X_test'])\n",
    "        dctree_acc.append(accuracy_score(d['y_test'], dctree_pred))\n",
    "    \n",
    "    \n",
    "    print('------')\n",
    "    print('Classification accuracy for {} dataset with KNN: {}%'.format(dataset,round(np.mean(knn_acc) * 100, 2)))\n",
    "    print('Classification accuracy for {} dataset with Decision Tree: {}%'.format(dataset,round(np.mean(dctree_acc) * 100, 2)))"
   ]
  }
 ],
 "metadata": {
  "kernelspec": {
   "display_name": "Python 3",
   "language": "python",
   "name": "python3"
  },
  "language_info": {
   "codemirror_mode": {
    "name": "ipython",
    "version": 3
   },
   "file_extension": ".py",
   "mimetype": "text/x-python",
   "name": "python",
   "nbconvert_exporter": "python",
   "pygments_lexer": "ipython3",
   "version": "3.6.6"
  }
 },
 "nbformat": 4,
 "nbformat_minor": 2
}
