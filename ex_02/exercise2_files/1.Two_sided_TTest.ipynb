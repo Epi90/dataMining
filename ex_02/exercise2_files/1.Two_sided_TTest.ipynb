{
 "cells": [
  {
   "cell_type": "markdown",
   "metadata": {},
   "source": [
    "# Data Mining and Probabilistic Reasoning, WS18/19\n",
    "Dr. Gjergji Kasneci, The University of Tübingen\n",
    "\n",
    "\n",
    "## T-Tests\n",
    "\n",
    "**Date: 19.11.2018**\n",
    "\n",
    "Teaching Assistant:\n",
    "* Martin Pawelczyk \n",
    "* Note: Please address the questions, which you might have about the material presented here, towards me."
   ]
  },
  {
   "cell_type": "code",
   "execution_count": 1,
   "metadata": {},
   "outputs": [],
   "source": [
    "# Import Libraries\n",
    "import numpy as np\n",
    "import pandas as pd\n",
    "import scipy\n",
    "from scipy.stats import t # imports t distribution related functions\n",
    "import matplotlib.pyplot as plt\n",
    "import random\n",
    "\n",
    "random.seed(811)"
   ]
  },
  {
   "cell_type": "markdown",
   "metadata": {},
   "source": [
    "# Review of two-sided t-test's descison rule\n",
    "For now: Let's concentrate on sample 1.\n",
    "Do you recall the desicion rule for a one sample t-test with *unknown* mean & variance?\n",
    "If not, dont worry. Here it is again: \n",
    "\n",
    "1. Compute: $$ \\hat{\\theta} = n^{-1}\\sum_{i} x_i $$ $$se(\\hat{\\theta}) = \\sqrt{Var(\\hat{\\theta})}$$.\n",
    "2. Compute the test statistic:  $$ W = \\frac{\\hat{\\theta}-\\theta}{se(\\hat{\\theta)}}\\sqrt{n} \\sim t_{df} $$.\n",
    "3. Compare W with coresponding critical value for a two sided t-test: $$ |W| > t_{n-1, 1-\\alpha}$$ where t_df is the t-distribution with df degrees of freedom, t denotes the percentile of a t-distribution with corresponding (chosen) significance level alpha, sample size n and degrees of freedom (df = n-1, in this case). \n",
    "\n",
    "**Q**: \n",
    "1. (1) Would it make any difference, if the the value theta was known to us? (2) Alternatively, would it make a difference if the variance of theta was known to us?\n",
    "2. How would the distribution of the test statistic under the null hyothesis change in cases (1) and (2)? Would it change?\n",
    "3. How does this test relate to the Wald test?\n",
    "\n",
    "Let's turn to an actual (simulation) example:\n"
   ]
  },
  {
   "cell_type": "markdown",
   "metadata": {},
   "source": [
    "# The Descion Rule"
   ]
  },
  {
   "cell_type": "code",
   "execution_count": 2,
   "metadata": {},
   "outputs": [],
   "source": [
    "# Data Generating Process (DGP)\n",
    "n = 50\n",
    "Sample1 = np.random.normal(0, 1, size = n) # First Sample with mean 0 & standard deviation 1 \n",
    "Sample2 = np.random.normal(3, 1, size = n) # Second Sample with mean 3 & standard deviation 1; both with sample sizes n_1 = n_2 = 50\n",
    "\n",
    "# Note: Samples need not be simulated from Normal distribution for this example. "
   ]
  },
  {
   "cell_type": "code",
   "execution_count": 3,
   "metadata": {},
   "outputs": [],
   "source": [
    "theta_hat_1 = np.mean(Sample1)\n",
    "theta_hat_2 = np.mean(Sample2)\n",
    "# empirical variance\n",
    "emp_se_1 = np.sqrt(np.var(Sample1))\n",
    "emp_se_2 = np.sqrt(np.var(Sample2))\n",
    "# sample variance\n",
    "\n",
    "# Suppose our hypothesized mean value theta is 0\n",
    "W_1 = np.sqrt(n)*(theta_hat_1 - 0)/(emp_se_1)\n",
    "W_2 = np.sqrt(n)*(theta_hat_2 - 0)/(emp_se_1)\n",
    "\n",
    "# df: degrees of freedom\n",
    "# Q: What do we need this for?\n",
    "df = n-1\n",
    "\n",
    "# obtain 5% and 10% critical values\n",
    "# Q: Why do we use 0.975 and 0.95 for the 5 and 10 percent critical values, respectively?\n",
    "t_005 = t.ppf(0.975, df) \n",
    "t_010 = t.ppf(0.95, df)"
   ]
  },
  {
   "cell_type": "code",
   "execution_count": 4,
   "metadata": {},
   "outputs": [
    {
     "name": "stdout",
     "output_type": "stream",
     "text": [
      "-0.6235228265268473\n",
      "22.628318626811293\n"
     ]
    }
   ],
   "source": [
    "# Print both \n",
    "print(W_1)\n",
    "print(W_2)"
   ]
  },
  {
   "cell_type": "code",
   "execution_count": 5,
   "metadata": {},
   "outputs": [
    {
     "name": "stdout",
     "output_type": "stream",
     "text": [
      "False False True True\n"
     ]
    }
   ],
   "source": [
    "# Obtain Descion Rules\n",
    "# Q: What do we conclude?\n",
    "desc1 = np.abs(W_1) > t_005\n",
    "desc2 = np.abs(W_1) > t_010\n",
    "\n",
    "desc3 = np.abs(W_2) > t_005\n",
    "desc4 = np.abs(W_2) > t_010\n",
    "\n",
    "print(desc1, desc2, desc3, desc4)"
   ]
  },
  {
   "cell_type": "markdown",
   "metadata": {},
   "source": [
    "**Q**: What does this tell us?"
   ]
  },
  {
   "cell_type": "code",
   "execution_count": 6,
   "metadata": {},
   "outputs": [
    {
     "data": {
      "text/plain": [
       "<function matplotlib.pyplot.show(*args, **kw)>"
      ]
     },
     "execution_count": 6,
     "metadata": {},
     "output_type": "execute_result"
    },
    {
     "data": {
      "image/png": "[encoded data removed]",
      "text/plain": [
       "<Figure size 640x480 with 1 Axes>"
      ]
     },
     "metadata": {
      "needs_background": "light"
     },
     "output_type": "display_data"
    }
   ],
   "source": [
    "# Let us first get t-dist. with df degrees of freedom\n",
    "df = n - 1\n",
    "\n",
    "x = np.linspace(t.ppf(0.0001, df), t.ppf(0.9999, df), 100)\n",
    "rv = t(df)\n",
    "\n",
    "plt.figure(figsize=(8,6), dpi=80)\n",
    "plt.plot(x, rv.pdf(x), 'k-', lw=2) # plot idealized t dist\n",
    "plt.xlabel('x')\n",
    "plt.ylabel('Density')\n",
    "plt.title('T - Dist with df degrees of freedom')\n",
    "plt.text(6, .35, r'$\\mu=0,\\ df=49$')\n",
    "\n",
    "# now we also add the the values from our test-statistics\n",
    "plt.plot([W_2], [0], marker='o', markersize=3, color=\"red\")\n",
    "plt.plot([W_1], [0], marker='o', markersize=3, color=\"green\")\n",
    "\n",
    "# let us now visualize everything: the critical values & the t statistics\n",
    "plt.show\n"
   ]
  },
  {
   "cell_type": "markdown",
   "metadata": {},
   "source": [
    "**Q**: \n",
    "1. What are our conclusions?\n",
    "2. Why did we compare the values of the test statistic with the critical values from the t-distribution? \n",
    "3. Why not any other distribution?"
   ]
  },
  {
   "cell_type": "markdown",
   "metadata": {},
   "source": [
    "# Short Digression: An illustrative Monte Carlo Simulation using the *empirical* variance & *sample* variance formulae -- small sample results\n",
    "\n",
    "What is a Monte Carlo Simulation?\n",
    "\n",
    "Think of it as a controlled statistical experiment. While the method vary with respect to different fields, they usually follow a certain pattern (according to [Wikipedia](https://en.wikipedia.org/wiki/Monte_Carlo_method#Applied_statistics)):\n",
    "\n",
    "1. Define a domain of possible inputs\n",
    "2. Generate inputs randomly from a probability distribution over the domain\n",
    "3. Perform a deterministic computation on the inputs\n",
    "4. Aggregate the results\n",
    "\n",
    "Our procedure will then be as follows:\n",
    "\n",
    "1. Here we will generate data from a normal distribution with mean 0 and standard deviation 1 (this step implies 1. and 2. from above)\n",
    "2. Compute the mean and variance to create the t-statistic (corresponds to step 3).\n",
    "3. Aggregate the results in a histogram (corresponds to step 4) and compute the empirical size of our test, i.e., how often do we reject the null hypothesis when the null hypothesis is true. "
   ]
  },
  {
   "cell_type": "markdown",
   "metadata": {},
   "source": [
    "## Empirical Variance Formula"
   ]
  },
  {
   "cell_type": "code",
   "execution_count": 7,
   "metadata": {},
   "outputs": [
    {
     "name": "stdout",
     "output_type": "stream",
     "text": [
      "1891\n",
      "0.05449999999999999\n"
     ]
    }
   ],
   "source": [
    "\n",
    "rep = 2000 # number of repetions in monte carlo simulation\n",
    "\n",
    "# define sample size\n",
    "n = 10  # will have an impact on our hypothesis test\n",
    "df = n - 1\n",
    "t_975 = t.ppf(0.975, df)\n",
    "t_025 = t.ppf(0.025, df)\n",
    "\n",
    "Rule_Count = 0 # will tell us how often we rejected the null hypothesis\n",
    "\n",
    "W  = list(range(rep)) \n",
    "\n",
    "for i in range(rep):\n",
    "    Sample = np.random.normal(0, 1, size = n) # obtain random sample from normal with mean 1 and sd = 1\n",
    "    # compute mean\n",
    "    theta_hat = np.mean(Sample)\n",
    "    # compute se\n",
    "    emp_se = np.sqrt(np.var(Sample))\n",
    "    \n",
    "    # compute test statistic with hypothetzied value of 0 (this is the value under the null hypothesis)\n",
    "    Stat = np.sqrt(n)*(theta_hat - 0)/(emp_se)\n",
    "    # compute descion rule\n",
    "    Rule = ((Stat > t_025) and (Stat < t_975))*1 # multiplication with 1 turns boolean into numerical\n",
    "\n",
    "    Rule_Count = Rule_Count + Rule\n",
    "    emp_size = 1 - Rule_Count/rep # as opposed to nominal size (which we have choosen to be 5 percent here!)\n",
    "    \n",
    "    # vectorize test statistics\n",
    "    W[i] = Stat \n",
    "    \n",
    "print(Rule_Count)\n",
    "print(emp_size)"
   ]
  },
  {
   "cell_type": "markdown",
   "metadata": {},
   "source": [
    "**Q**: Can you detect any potential (small) problems with this approach?"
   ]
  },
  {
   "cell_type": "markdown",
   "metadata": {},
   "source": [
    "## Sample Varianec Formula"
   ]
  },
  {
   "cell_type": "code",
   "execution_count": 8,
   "metadata": {},
   "outputs": [],
   "source": [
    "# Short Function to compute Sample Variance\n",
    "\n",
    "#def sample_variance(Sample, n):\n",
    " \n",
    "def Sample_Variance(Sample,theta_hat, n):   \n",
    "    var = list(range(n))\n",
    "    \n",
    "    for i in range(n):\n",
    "        var[i] = (Sample[i] - theta_hat) ** 2\n",
    "    s_var = sum(var)/(len(Sample) - 1) # instead of dividing by n we divide by (n-1)\n",
    "    return s_var\n",
    "    "
   ]
  },
  {
   "cell_type": "code",
   "execution_count": 9,
   "metadata": {},
   "outputs": [
    {
     "data": {
      "image/png": "[encoded data removed]",
      "text/plain": [
       "<Figure size 432x288 with 1 Axes>"
      ]
     },
     "metadata": {
      "needs_background": "light"
     },
     "output_type": "display_data"
    },
    {
     "name": "stdout",
     "output_type": "stream",
     "text": [
      "1892\n",
      "0.05400000000000005\n"
     ]
    }
   ],
   "source": [
    "## Short Digression 2 - An illustrative Monte Carlo Simulation: using the sample variance formula\n",
    "\n",
    "rep = 2000 # number of repetions in monte carlo simulation\n",
    "\n",
    "Rule_Count = 0 # will tell us how often we rejected the null hypothesis\n",
    "W  = list(range(rep)) \n",
    "for i in range(rep):\n",
    "    \n",
    "    Sample = np.random.normal(0, 1, size = n) # obtain random sample from normal with mean 1 and sd = 1\n",
    "    # compute mean\n",
    "    theta_hat = np.mean(Sample)\n",
    "    # compute empirical se\n",
    "    s_se = np.sqrt(Sample_Variance(Sample, theta_hat, n))\n",
    "\n",
    "    # compute test statistic with hypothetzied value of 0 (this is the value under the null hypothesis)\n",
    "    Stat = np.sqrt(n)*(theta_hat - 0)/(s_se)\n",
    "    # compute descion rule\n",
    "    Rule = ((Stat > t_025) and (Stat < t_975))*1\n",
    "    \n",
    "    Rule_Count = Rule_Count + Rule\n",
    "    emp_size = 1 - Rule_Count/rep # as opposed to nominal size (which we have choosen to be 5 percent here!)\n",
    "    \n",
    "    # vectorize test statistics\n",
    "    W[i] = Stat    \n",
    "    \n",
    "# Plots: Observe that the plot has many more observations in the tails than we would expect under a normal distribution\n",
    "plt.hist(W, bins='auto')\n",
    "plt.xlabel('t-statistics')\n",
    "plt.ylabel('Frequency')\n",
    "plt.title('Histogram of t-Statistics')\n",
    "plt.show()\n",
    "\n",
    "print(Rule_Count)\n",
    "print(emp_size)"
   ]
  },
  {
   "cell_type": "markdown",
   "metadata": {},
   "source": [
    "### Main Takeaways\n",
    "Ask yourself:\n",
    "1. Whether the means and variances are known or not?; \n",
    "2. Which distribution do we get the critical values from?\n",
    "3. Will the size be under control? (Will it be 5%?)\n",
    "\n",
    "Next: Let's turn to some real world applicatons. \n"
   ]
  },
  {
   "cell_type": "markdown",
   "metadata": {},
   "source": [
    "# A data application\n"
   ]
  },
  {
   "cell_type": "code",
   "execution_count": 10,
   "metadata": {
    "scrolled": true
   },
   "outputs": [
    {
     "name": "stdout",
     "output_type": "stream",
     "text": [
      "10.422983114446502 1.1349371715080778 10.514267047770149 1.514117788842735\n",
      "1599 4898\n"
     ]
    }
   ],
   "source": [
    "# Wine\n",
    "Wine = pd.read_csv(\"./data/wine_data.csv\", delim_whitespace=True)\n",
    "Wine.head()\n",
    "Alc_Subset = Wine[['Type', 'Alcohol_(%)']]\n",
    "\n",
    "red = Alc_Subset.query(\"Type == 'red' \")\n",
    "white = Alc_Subset.query(\"Type == 'white' \")\n",
    "\n",
    "red_v = red.iloc[:,1] # obtain values\n",
    "white_v = white.iloc[:,1] # obtain values\n",
    "\n",
    "red_mean = np.mean(red_v)\n",
    "white_mean = np.mean(white_v)\n",
    "\n",
    "var_red = np.var(red_v)\n",
    "var_white = np.var(white_v)\n",
    "\n",
    "n_red = len(red_v)\n",
    "n_white = len(white_v)\n",
    "\n",
    "print(red_mean, var_red, white_mean, var_white)\n",
    "print(n_red, n_white)"
   ]
  },
  {
   "cell_type": "markdown",
   "metadata": {},
   "source": [
    "## Which null hypothesis should we test???\n",
    "There are several legit null hypotheses we could check. For instance:\n",
    "1. Are the means different from 10(%)?\n",
    "2. Are the means greater/smaller than 10(%)?\n",
    "3. Do the means differ across Red & White wines?\n",
    "\n",
    "Here we will simply check whether the means are different from 10 percent (1. bullet point).\n",
    "\n",
    "*Q*: How would you go about testing cases (2) and (3)? Try it yourself! Hint: Case (3) is a bit more tricky! You have to incorporate that the two samples have different sample sizes, different means and different variances!\n"
   ]
  },
  {
   "cell_type": "code",
   "execution_count": 11,
   "metadata": {},
   "outputs": [
    {
     "name": "stdout",
     "output_type": "stream",
     "text": [
      "15.876740715972323 29.249487221200948\n"
     ]
    }
   ],
   "source": [
    "# Test statistics and descion Rules\n",
    "\n",
    "# compute test statistics\n",
    "t_red = np.sqrt(n_red)*(red_mean - 10)/ np.sqrt(var_red)\n",
    "t_white = np.sqrt(n_white)*(white_mean - 10)/ np.sqrt(var_white)\n",
    "\n",
    "print(t_red, t_white)"
   ]
  },
  {
   "cell_type": "markdown",
   "metadata": {},
   "source": [
    "*Q*: \n",
    "1. What do we conclude from these test statistics?  \n",
    "2. Is there a null hypothesis that would make more sense? How would you test it?\n",
    "3. Did we expect to arrive at those descions by looking at the sample sizes, variances and means?"
   ]
  }
 ],
 "metadata": {
  "kernelspec": {
   "display_name": "Python 3",
   "language": "python",
   "name": "python3"
  },
  "language_info": {
   "codemirror_mode": {
    "name": "ipython",
    "version": 3
   },
   "file_extension": ".py",
   "mimetype": "text/x-python",
   "name": "python",
   "nbconvert_exporter": "python",
   "pygments_lexer": "ipython3",
   "version": "3.6.4"
  }
 },
 "nbformat": 4,
 "nbformat_minor": 2
}
