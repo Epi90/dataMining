{
 "cells": [
  {
   "cell_type": "markdown",
   "metadata": {},
   "source": [
    "# Data Mining and Probabilistic Reasoning, WS18/19\n",
    "\n",
    "\n",
    "Dr. Gjergji Kasneci, The University of Tübingen"
   ]
  },
  {
   "cell_type": "markdown",
   "metadata": {},
   "source": [
    "-----\n",
    "## Homework 2\n",
    "-----\n",
    "\n",
    "###### Date 19/11/2018\n",
    "\n",
    "Teaching assistants:\n",
    "\n",
    " - Vadim Borisov (vadim.borisov@uni-tuebingen.de)\n",
    "\n",
    " - Johannes Haug (johannes-christian.haug@uni-tuebingen.de)"
   ]
  },
  {
   "cell_type": "markdown",
   "metadata": {},
   "source": [
    "### Grading Bonus for dedicated students\n",
    "\n",
    "Students who participate in at least 3 homeworks (with an average result of 60%) and are present in at least 6 lectures or exercises receive a grading bonus of 0.3 on their exam. The participation in lectures, exercises or homework is however not mandatory to subscribe to the exam. The grading bonus cannot be granted for students who already get a 1.0 in their exam, as well as students that do not pass the exam in the first place (initial grade of 4.3 or worse).\n",
    "\n",
    "A homework task is rated 100% if you provide a correct solution to the problem. This does not have to be the optimal solution (since there usually is no chance to say what the optimal solution even is). We average the result of each task for the final rating of your homework (every task is weighted equally)."
   ]
  },
  {
   "cell_type": "markdown",
   "metadata": {},
   "source": [
    "### Present your homework in the upcoming exercise\n",
    "There are different ways to tackle the tasks in this exercise. Instead of providing you with a sample solution, we plan to give one or two students the chance to present their solutions in the upcoming exercise (we will contact the students that in our eyes submitted the best solution)."
   ]
  },
  {
   "cell_type": "markdown",
   "metadata": {},
   "source": [
    "----\n",
    "**Note:** Please add your solution to the homework in this Jupyter Notebook and upload it to Ilias until **03.12.18, 09:00 o'clock**. Make sure you use the following naming convention: `homework_2_[lastname]_[firstname]_[matrikelnr].ipynb`<br>\n",
    "If you want to **work as a group**, please use the following naming convention:\n",
    "`homework_2_group_[matrikelnr1]_[matrikelnr2]_[...].ipynb`. Also list your group members here:\n",
    "- Lastname, Firstname, Matrikelnr\n",
    "----"
   ]
  },
  {
   "cell_type": "markdown",
   "metadata": {},
   "source": [
    "# Task \n",
    "Your job is to develop a machine learning model for predicting if a customer will subscribe to a term deposit. For that reason, we provided you a dataset about bank marketing statistics.\n",
    "\n",
    "You can find the CSV at the following path: `./data/homework_dataset.csv`. To learn more about the dataset check the following [link](https://archive.ics.uci.edu/ml/datasets/bank+marketing) (note we have addapted dateset for you).\n",
    "## Import modules and load data\n",
    "Import all modules you need for the homework here.\n"
   ]
  },
  {
   "cell_type": "code",
   "execution_count": null,
   "metadata": {},
   "outputs": [],
   "source": []
  },
  {
   "cell_type": "markdown",
   "metadata": {},
   "source": [
    "----\n",
    "## 1. Task: Visualize the data\n",
    "#### 1.1 Show the first 10 rows of the dataset"
   ]
  },
  {
   "cell_type": "code",
   "execution_count": null,
   "metadata": {},
   "outputs": [],
   "source": []
  },
  {
   "cell_type": "markdown",
   "metadata": {},
   "source": [
    "#### 1.2 What kind of variable is *education*? Plot the frequency of the different values in *education*"
   ]
  },
  {
   "cell_type": "code",
   "execution_count": null,
   "metadata": {},
   "outputs": [],
   "source": []
  },
  {
   "cell_type": "markdown",
   "metadata": {},
   "source": [
    "----\n",
    "## 2. Task: Data Cleaning\n",
    "#### 2.1 Think about the data format of the variables \n",
    "Can we change the format of certain variables (especially the ones containing text)? \n",
    "\n",
    "Apply the techniques you seem fit and explain why you chose them in 1-2 sentences. If you do not apply any technique also explain your intentions in a few sentences."
   ]
  },
  {
   "cell_type": "code",
   "execution_count": null,
   "metadata": {},
   "outputs": [],
   "source": []
  },
  {
   "cell_type": "markdown",
   "metadata": {},
   "source": [
    "#### 2.2 Think about missing values\n",
    "Are there any missing values that need to be dealt with? \n",
    "\n",
    "Apply the techniques you seem fit and explain why you chose them in 1-2 sentences. If you do not apply any technique also explain your intentions in a few sentences."
   ]
  },
  {
   "cell_type": "code",
   "execution_count": null,
   "metadata": {},
   "outputs": [],
   "source": []
  },
  {
   "cell_type": "markdown",
   "metadata": {},
   "source": [
    "#### 2.3 Think about outliers\n",
    "Are there any outliers in the dataset that need to be removed (considering the continuous variables)? \n",
    "\n",
    "Apply the techniques you seem fit and explain why you chose them in 1-2 sentences. If you do not apply any technique also explain your intentions in a few sentences."
   ]
  },
  {
   "cell_type": "code",
   "execution_count": null,
   "metadata": {},
   "outputs": [],
   "source": []
  },
  {
   "cell_type": "markdown",
   "metadata": {},
   "source": [
    "----\n",
    "## 3. Task: Training of a Machine Learning Classifier\n",
    "#### 3.1 Partition the dataset into a training and test set \n",
    "The test set should be 25% of the original dataset, also, please assign the random state to `2018` (see the example below). \n",
    "\n",
    "```python\n",
    "X_train, X_test, y_train, y_test = train_test_split(X, y, test_size=0.25, random_state=2018)\n",
    "```"
   ]
  },
  {
   "cell_type": "code",
   "execution_count": null,
   "metadata": {},
   "outputs": [],
   "source": []
  },
  {
   "cell_type": "markdown",
   "metadata": {},
   "source": [
    "#### 3.2 Train a machine learning model and select hyperparameters for it. Why did you choose this machine learning model?\n",
    "Hint: think about the splitting stategy of `X_train`. "
   ]
  },
  {
   "cell_type": "code",
   "execution_count": null,
   "metadata": {},
   "outputs": [],
   "source": []
  },
  {
   "cell_type": "markdown",
   "metadata": {},
   "source": [
    "#### 3.3 Apply the model to the test set and print the classification accuracy of your machine learning model\n",
    "Please use `accuracy_score(y_test,y_hat)` function from scikit-learn."
   ]
  },
  {
   "cell_type": "code",
   "execution_count": null,
   "metadata": {},
   "outputs": [],
   "source": []
  }
 ],
 "metadata": {
  "kernelspec": {
   "display_name": "Python 3",
   "language": "python",
   "name": "python3"
  },
  "language_info": {
   "codemirror_mode": {
    "name": "ipython",
    "version": 3
   },
   "file_extension": ".py",
   "mimetype": "text/x-python",
   "name": "python",
   "nbconvert_exporter": "python",
   "pygments_lexer": "ipython3",
   "version": "3.6.4"
  }
 },
 "nbformat": 4,
 "nbformat_minor": 2
}
