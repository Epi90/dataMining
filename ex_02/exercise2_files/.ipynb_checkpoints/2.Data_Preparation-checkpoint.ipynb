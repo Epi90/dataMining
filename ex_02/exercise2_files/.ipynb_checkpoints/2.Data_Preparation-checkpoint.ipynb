{
 "cells": [
  {
   "cell_type": "markdown",
   "metadata": {},
   "source": [
    "# Data Mining and Probabilistic Reasoning, WS18/19\n",
    "\n",
    "\n",
    "Dr. Gjergji Kasneci, The University of Tübingen"
   ]
  },
  {
   "cell_type": "markdown",
   "metadata": {},
   "source": [
    "-----\n",
    "## Data Preparation/Preprocessing\n",
    "-----\n",
    "\n",
    "###### Date 19/11/2018\n",
    "\n",
    "Teaching assistants:\n",
    "\n",
    " - Vadim Borisov (vadim.borisov@uni-tuebingen.de)\n",
    "\n",
    " - Johannes Haug (johannes-christian.haug@uni-tuebingen.de)"
   ]
  },
  {
   "cell_type": "code",
   "execution_count": 1,
   "metadata": {},
   "outputs": [],
   "source": [
    "import numpy as np\n",
    "import pandas as pd\n",
    "import matplotlib.pyplot as plt\n",
    "plt.style.use('ggplot')"
   ]
  },
  {
   "cell_type": "markdown",
   "metadata": {},
   "source": [
    "-----\n",
    "# Data types\n",
    "First we want to introduce different types of data and how to handle them in Python"
   ]
  },
  {
   "cell_type": "markdown",
   "metadata": {},
   "source": [
    "## Quantitative/Numerical Data\n",
    "Numerical data represent a measurement. Numerical variables can be discrete or continuous. Discrete variables take on a countable (but potentially infinite) number of different values. In contrast, the potential values of a continuous variable cannot be counted. You can think of continuous variables as follows: between any two values of a continuous variable there is another infinite number of values that the variable could take on."
   ]
  },
  {
   "cell_type": "code",
   "execution_count": 2,
   "metadata": {},
   "outputs": [
    {
     "data": {
      "text/html": [
       "<div>\n",
       "<style scoped>\n",
       "    .dataframe tbody tr th:only-of-type {\n",
       "        vertical-align: middle;\n",
       "    }\n",
       "\n",
       "    .dataframe tbody tr th {\n",
       "        vertical-align: top;\n",
       "    }\n",
       "\n",
       "    .dataframe thead th {\n",
       "        text-align: right;\n",
       "    }\n",
       "</style>\n",
       "<table border=\"1\" class=\"dataframe\">\n",
       "  <thead>\n",
       "    <tr style=\"text-align: right;\">\n",
       "      <th></th>\n",
       "      <th>Type</th>\n",
       "      <th>Fixed_acidity_(g/l)</th>\n",
       "      <th>Volatile_acidity_(g/l)</th>\n",
       "      <th>Citric_acid_(g/l)</th>\n",
       "      <th>Residual_sugar_(g/l)</th>\n",
       "      <th>Chlorides_(g/l)</th>\n",
       "      <th>Free_sulfur_dioxide_(mg/l)</th>\n",
       "      <th>Total_sulfur_dioxide_(mg/l)</th>\n",
       "      <th>Density_(g/cm3)</th>\n",
       "      <th>pH</th>\n",
       "      <th>Sulphates_(g/l)</th>\n",
       "      <th>Alcohol_(%)</th>\n",
       "      <th>quality</th>\n",
       "    </tr>\n",
       "  </thead>\n",
       "  <tbody>\n",
       "    <tr>\n",
       "      <th>0</th>\n",
       "      <td>red</td>\n",
       "      <td>7.4</td>\n",
       "      <td>0.70</td>\n",
       "      <td>0.00</td>\n",
       "      <td>1.9</td>\n",
       "      <td>0.076</td>\n",
       "      <td>11.0</td>\n",
       "      <td>34.0</td>\n",
       "      <td>0.9978</td>\n",
       "      <td>3.51</td>\n",
       "      <td>0.56</td>\n",
       "      <td>9.4</td>\n",
       "      <td>5</td>\n",
       "    </tr>\n",
       "    <tr>\n",
       "      <th>1</th>\n",
       "      <td>red</td>\n",
       "      <td>7.8</td>\n",
       "      <td>0.88</td>\n",
       "      <td>0.00</td>\n",
       "      <td>2.6</td>\n",
       "      <td>0.098</td>\n",
       "      <td>25.0</td>\n",
       "      <td>67.0</td>\n",
       "      <td>0.9968</td>\n",
       "      <td>3.20</td>\n",
       "      <td>0.68</td>\n",
       "      <td>9.8</td>\n",
       "      <td>5</td>\n",
       "    </tr>\n",
       "    <tr>\n",
       "      <th>2</th>\n",
       "      <td>red</td>\n",
       "      <td>7.8</td>\n",
       "      <td>0.76</td>\n",
       "      <td>0.04</td>\n",
       "      <td>2.3</td>\n",
       "      <td>0.092</td>\n",
       "      <td>15.0</td>\n",
       "      <td>54.0</td>\n",
       "      <td>0.9970</td>\n",
       "      <td>3.26</td>\n",
       "      <td>0.65</td>\n",
       "      <td>9.8</td>\n",
       "      <td>5</td>\n",
       "    </tr>\n",
       "    <tr>\n",
       "      <th>3</th>\n",
       "      <td>red</td>\n",
       "      <td>11.2</td>\n",
       "      <td>0.28</td>\n",
       "      <td>0.56</td>\n",
       "      <td>1.9</td>\n",
       "      <td>0.075</td>\n",
       "      <td>17.0</td>\n",
       "      <td>60.0</td>\n",
       "      <td>0.9980</td>\n",
       "      <td>3.16</td>\n",
       "      <td>0.58</td>\n",
       "      <td>9.8</td>\n",
       "      <td>6</td>\n",
       "    </tr>\n",
       "    <tr>\n",
       "      <th>4</th>\n",
       "      <td>red</td>\n",
       "      <td>7.4</td>\n",
       "      <td>0.70</td>\n",
       "      <td>0.00</td>\n",
       "      <td>1.9</td>\n",
       "      <td>0.076</td>\n",
       "      <td>11.0</td>\n",
       "      <td>34.0</td>\n",
       "      <td>0.9978</td>\n",
       "      <td>3.51</td>\n",
       "      <td>0.56</td>\n",
       "      <td>9.4</td>\n",
       "      <td>5</td>\n",
       "    </tr>\n",
       "  </tbody>\n",
       "</table>\n",
       "</div>"
      ],
      "text/plain": [
       "  Type  Fixed_acidity_(g/l)  Volatile_acidity_(g/l)  Citric_acid_(g/l)  \\\n",
       "0  red                  7.4                    0.70               0.00   \n",
       "1  red                  7.8                    0.88               0.00   \n",
       "2  red                  7.8                    0.76               0.04   \n",
       "3  red                 11.2                    0.28               0.56   \n",
       "4  red                  7.4                    0.70               0.00   \n",
       "\n",
       "   Residual_sugar_(g/l)  Chlorides_(g/l)  Free_sulfur_dioxide_(mg/l)  \\\n",
       "0                   1.9            0.076                        11.0   \n",
       "1                   2.6            0.098                        25.0   \n",
       "2                   2.3            0.092                        15.0   \n",
       "3                   1.9            0.075                        17.0   \n",
       "4                   1.9            0.076                        11.0   \n",
       "\n",
       "   Total_sulfur_dioxide_(mg/l)  Density_(g/cm3)    pH  Sulphates_(g/l)  \\\n",
       "0                         34.0           0.9978  3.51             0.56   \n",
       "1                         67.0           0.9968  3.20             0.68   \n",
       "2                         54.0           0.9970  3.26             0.65   \n",
       "3                         60.0           0.9980  3.16             0.58   \n",
       "4                         34.0           0.9978  3.51             0.56   \n",
       "\n",
       "   Alcohol_(%)  quality  \n",
       "0          9.4        5  \n",
       "1          9.8        5  \n",
       "2          9.8        5  \n",
       "3          9.8        6  \n",
       "4          9.4        5  "
      ]
     },
     "execution_count": 2,
     "metadata": {},
     "output_type": "execute_result"
    }
   ],
   "source": [
    "wine = pd.read_csv('./data/wine_data.csv', delim_whitespace=1)\n",
    "wine.head()"
   ]
  },
  {
   "cell_type": "code",
   "execution_count": 3,
   "metadata": {},
   "outputs": [
    {
     "data": {
      "image/png": "[encoded data removed]",
      "text/plain": [
       "<Figure size 720x360 with 2 Axes>"
      ]
     },
     "metadata": {
      "needs_background": "light"
     },
     "output_type": "display_data"
    }
   ],
   "source": [
    "fig, ax = plt.subplots(1,2, figsize=(10,5))\n",
    "ax[0].hist(wine['Residual_sugar_(g/l)'][:1000])\n",
    "ax[0].set_title('Residual Sugar: Histogram')\n",
    "ax[0].set_xlabel('Contaiend res. sugar')\n",
    "ax[0].set_ylabel('Count')\n",
    "ax[1].plot(wine['Residual_sugar_(g/l)'][:1000])\n",
    "ax[1].set_title('Residual Sugar: Line Plot')\n",
    "ax[1].set_xlabel('Index')\n",
    "ax[1].set_ylabel('Contaiend res. sugar')\n",
    "plt.show()"
   ]
  },
  {
   "cell_type": "markdown",
   "metadata": {},
   "source": [
    "**QUESTION:** Which visualization provides more insight?"
   ]
  },
  {
   "cell_type": "code",
   "execution_count": 4,
   "metadata": {},
   "outputs": [
    {
     "data": {
      "image/png": "[encoded data removed]",
      "text/plain": [
       "<Figure size 432x288 with 1 Axes>"
      ]
     },
     "metadata": {
      "needs_background": "light"
     },
     "output_type": "display_data"
    }
   ],
   "source": [
    "plt.scatter(wine['Residual_sugar_(g/l)'][:1000], wine['Density_(g/cm3)'][:1000],)\n",
    "plt.xlabel('Contained res. sugar')\n",
    "plt.ylabel('Density')\n",
    "plt.title('Correlation of Res. Sugar and Density')\n",
    "plt.show()"
   ]
  },
  {
   "cell_type": "markdown",
   "metadata": {},
   "source": [
    "**QUESTION:** Are the numerical variables *Residual Sugar* and *Density* discrete or continuos? And how about the numerical variable *quality*?"
   ]
  },
  {
   "cell_type": "markdown",
   "metadata": {},
   "source": [
    "## Categorical Data\n",
    "Categorical variables belong to the group of discrete variables. Categorical variables can take on one of a countable and usually limited number of different values/categories. Categorical data can also take on numerical values (such as “1” indicating red wine and “2” indicating white wine), but those numbers don’t have mathematical meaning (i.e. the numbers just represent a distinct category)"
   ]
  },
  {
   "cell_type": "code",
   "execution_count": 5,
   "metadata": {},
   "outputs": [
    {
     "data": {
      "text/html": [
       "<div>\n",
       "<style scoped>\n",
       "    .dataframe tbody tr th:only-of-type {\n",
       "        vertical-align: middle;\n",
       "    }\n",
       "\n",
       "    .dataframe tbody tr th {\n",
       "        vertical-align: top;\n",
       "    }\n",
       "\n",
       "    .dataframe thead th {\n",
       "        text-align: right;\n",
       "    }\n",
       "</style>\n",
       "<table border=\"1\" class=\"dataframe\">\n",
       "  <thead>\n",
       "    <tr style=\"text-align: right;\">\n",
       "      <th></th>\n",
       "      <th>App</th>\n",
       "      <th>Category</th>\n",
       "      <th>Rating</th>\n",
       "      <th>Reviews</th>\n",
       "      <th>Size</th>\n",
       "      <th>Installs</th>\n",
       "      <th>Type</th>\n",
       "      <th>Price</th>\n",
       "      <th>Content Rating</th>\n",
       "      <th>Genres</th>\n",
       "      <th>Last Updated</th>\n",
       "      <th>Current Ver</th>\n",
       "      <th>Android Ver</th>\n",
       "    </tr>\n",
       "  </thead>\n",
       "  <tbody>\n",
       "    <tr>\n",
       "      <th>0</th>\n",
       "      <td>Photo Editor &amp; Candy Camera &amp; Grid &amp; ScrapBook</td>\n",
       "      <td>ART_AND_DESIGN</td>\n",
       "      <td>4.1</td>\n",
       "      <td>159</td>\n",
       "      <td>19M</td>\n",
       "      <td>10,000+</td>\n",
       "      <td>Free</td>\n",
       "      <td>0</td>\n",
       "      <td>Everyone</td>\n",
       "      <td>Art &amp; Design</td>\n",
       "      <td>January 7, 2018</td>\n",
       "      <td>1.0.0</td>\n",
       "      <td>4.0.3 and up</td>\n",
       "    </tr>\n",
       "    <tr>\n",
       "      <th>1</th>\n",
       "      <td>Coloring book moana</td>\n",
       "      <td>ART_AND_DESIGN</td>\n",
       "      <td>3.9</td>\n",
       "      <td>967</td>\n",
       "      <td>14M</td>\n",
       "      <td>500,000+</td>\n",
       "      <td>Free</td>\n",
       "      <td>0</td>\n",
       "      <td>Everyone</td>\n",
       "      <td>Art &amp; Design;Pretend Play</td>\n",
       "      <td>January 15, 2018</td>\n",
       "      <td>2.0.0</td>\n",
       "      <td>4.0.3 and up</td>\n",
       "    </tr>\n",
       "    <tr>\n",
       "      <th>2</th>\n",
       "      <td>U Launcher Lite – FREE Live Cool Themes, Hide ...</td>\n",
       "      <td>ART_AND_DESIGN</td>\n",
       "      <td>4.7</td>\n",
       "      <td>87510</td>\n",
       "      <td>8.7M</td>\n",
       "      <td>5,000,000+</td>\n",
       "      <td>Free</td>\n",
       "      <td>0</td>\n",
       "      <td>Everyone</td>\n",
       "      <td>Art &amp; Design</td>\n",
       "      <td>August 1, 2018</td>\n",
       "      <td>1.2.4</td>\n",
       "      <td>4.0.3 and up</td>\n",
       "    </tr>\n",
       "    <tr>\n",
       "      <th>3</th>\n",
       "      <td>Sketch - Draw &amp; Paint</td>\n",
       "      <td>ART_AND_DESIGN</td>\n",
       "      <td>4.5</td>\n",
       "      <td>215644</td>\n",
       "      <td>25M</td>\n",
       "      <td>50,000,000+</td>\n",
       "      <td>Free</td>\n",
       "      <td>0</td>\n",
       "      <td>Teen</td>\n",
       "      <td>Art &amp; Design</td>\n",
       "      <td>June 8, 2018</td>\n",
       "      <td>Varies with device</td>\n",
       "      <td>4.2 and up</td>\n",
       "    </tr>\n",
       "    <tr>\n",
       "      <th>4</th>\n",
       "      <td>Pixel Draw - Number Art Coloring Book</td>\n",
       "      <td>ART_AND_DESIGN</td>\n",
       "      <td>4.3</td>\n",
       "      <td>967</td>\n",
       "      <td>2.8M</td>\n",
       "      <td>100,000+</td>\n",
       "      <td>Free</td>\n",
       "      <td>0</td>\n",
       "      <td>Everyone</td>\n",
       "      <td>Art &amp; Design;Creativity</td>\n",
       "      <td>June 20, 2018</td>\n",
       "      <td>1.1</td>\n",
       "      <td>4.4 and up</td>\n",
       "    </tr>\n",
       "  </tbody>\n",
       "</table>\n",
       "</div>"
      ],
      "text/plain": [
       "                                                 App        Category  Rating  \\\n",
       "0     Photo Editor & Candy Camera & Grid & ScrapBook  ART_AND_DESIGN     4.1   \n",
       "1                                Coloring book moana  ART_AND_DESIGN     3.9   \n",
       "2  U Launcher Lite – FREE Live Cool Themes, Hide ...  ART_AND_DESIGN     4.7   \n",
       "3                              Sketch - Draw & Paint  ART_AND_DESIGN     4.5   \n",
       "4              Pixel Draw - Number Art Coloring Book  ART_AND_DESIGN     4.3   \n",
       "\n",
       "  Reviews  Size     Installs  Type Price Content Rating  \\\n",
       "0     159   19M      10,000+  Free     0       Everyone   \n",
       "1     967   14M     500,000+  Free     0       Everyone   \n",
       "2   87510  8.7M   5,000,000+  Free     0       Everyone   \n",
       "3  215644   25M  50,000,000+  Free     0           Teen   \n",
       "4     967  2.8M     100,000+  Free     0       Everyone   \n",
       "\n",
       "                      Genres      Last Updated         Current Ver  \\\n",
       "0               Art & Design   January 7, 2018               1.0.0   \n",
       "1  Art & Design;Pretend Play  January 15, 2018               2.0.0   \n",
       "2               Art & Design    August 1, 2018               1.2.4   \n",
       "3               Art & Design      June 8, 2018  Varies with device   \n",
       "4    Art & Design;Creativity     June 20, 2018                 1.1   \n",
       "\n",
       "    Android Ver  \n",
       "0  4.0.3 and up  \n",
       "1  4.0.3 and up  \n",
       "2  4.0.3 and up  \n",
       "3    4.2 and up  \n",
       "4    4.4 and up  "
      ]
     },
     "execution_count": 5,
     "metadata": {},
     "output_type": "execute_result"
    }
   ],
   "source": [
    "playstore = pd.read_csv('./data/google_playstore.csv')\n",
    "playstore.head()"
   ]
  },
  {
   "cell_type": "code",
   "execution_count": 6,
   "metadata": {},
   "outputs": [
    {
     "data": {
      "text/plain": [
       "count      10841\n",
       "unique        34\n",
       "top       FAMILY\n",
       "freq        1972\n",
       "Name: Category, dtype: object"
      ]
     },
     "execution_count": 6,
     "metadata": {},
     "output_type": "execute_result"
    }
   ],
   "source": [
    "playstore['Category'].describe()"
   ]
  },
  {
   "cell_type": "code",
   "execution_count": 7,
   "metadata": {},
   "outputs": [
    {
     "data": {
      "text/plain": [
       "<matplotlib.axes._subplots.AxesSubplot at 0x7fe2a78c2b70>"
      ]
     },
     "execution_count": 7,
     "metadata": {},
     "output_type": "execute_result"
    },
    {
     "data": {
      "image/png": "[encoded data removed]",
      "text/plain": [
       "<Figure size 1080x720 with 1 Axes>"
      ]
     },
     "metadata": {
      "needs_background": "light"
     },
     "output_type": "display_data"
    }
   ],
   "source": [
    "plt.figure(figsize=(15,10))\n",
    "playstore['Category'].value_counts().plot(kind='bar')"
   ]
  },
  {
   "cell_type": "markdown",
   "metadata": {},
   "source": [
    "**QUESTION:** Are there other categorical variables than *Category* included in the playstore dataset?"
   ]
  },
  {
   "cell_type": "markdown",
   "metadata": {},
   "source": [
    "## Geo Data\n",
    "Geo data represents geographical locations and is usually represented in terms of longitude and latitude or the adress."
   ]
  },
  {
   "cell_type": "code",
   "execution_count": 8,
   "metadata": {},
   "outputs": [
    {
     "data": {
      "text/html": [
       "<div>\n",
       "<style scoped>\n",
       "    .dataframe tbody tr th:only-of-type {\n",
       "        vertical-align: middle;\n",
       "    }\n",
       "\n",
       "    .dataframe tbody tr th {\n",
       "        vertical-align: top;\n",
       "    }\n",
       "\n",
       "    .dataframe thead th {\n",
       "        text-align: right;\n",
       "    }\n",
       "</style>\n",
       "<table border=\"1\" class=\"dataframe\">\n",
       "  <thead>\n",
       "    <tr style=\"text-align: right;\">\n",
       "      <th></th>\n",
       "      <th>X</th>\n",
       "      <th>Y</th>\n",
       "      <th>OBJECTID_1</th>\n",
       "      <th>OBJECTID</th>\n",
       "      <th>BLDG_ID</th>\n",
       "      <th>BLDG_NAME</th>\n",
       "      <th>ADDRESS</th>\n",
       "      <th>CITY</th>\n",
       "      <th>ZIPCODE</th>\n",
       "      <th>CSP_SCH_ID</th>\n",
       "      <th>...</th>\n",
       "      <th>SCH_NAME</th>\n",
       "      <th>SCH_LABEL</th>\n",
       "      <th>SCH_TYPE</th>\n",
       "      <th>SHARED</th>\n",
       "      <th>COMPLEX</th>\n",
       "      <th>Label</th>\n",
       "      <th>TLT</th>\n",
       "      <th>PL</th>\n",
       "      <th>POINT_X</th>\n",
       "      <th>POINT_Y</th>\n",
       "    </tr>\n",
       "  </thead>\n",
       "  <tbody>\n",
       "    <tr>\n",
       "      <th>0</th>\n",
       "      <td>-71.004121</td>\n",
       "      <td>42.388799</td>\n",
       "      <td>1</td>\n",
       "      <td>1</td>\n",
       "      <td>1</td>\n",
       "      <td>Guild Bldg</td>\n",
       "      <td>195 Leyden Street</td>\n",
       "      <td>East Boston</td>\n",
       "      <td>2128</td>\n",
       "      <td>4061</td>\n",
       "      <td>...</td>\n",
       "      <td>Guild Elementary</td>\n",
       "      <td>Guild</td>\n",
       "      <td>ES</td>\n",
       "      <td></td>\n",
       "      <td></td>\n",
       "      <td>52</td>\n",
       "      <td>3</td>\n",
       "      <td>Grace</td>\n",
       "      <td>790128.152748</td>\n",
       "      <td>2.967094e+06</td>\n",
       "    </tr>\n",
       "    <tr>\n",
       "      <th>1</th>\n",
       "      <td>-71.030480</td>\n",
       "      <td>42.378545</td>\n",
       "      <td>2</td>\n",
       "      <td>2</td>\n",
       "      <td>3</td>\n",
       "      <td>Kennedy, P Bldg</td>\n",
       "      <td>343 Saratoga Street</td>\n",
       "      <td>East Boston</td>\n",
       "      <td>2128</td>\n",
       "      <td>4541</td>\n",
       "      <td>...</td>\n",
       "      <td>Kennedy Patrick Elem</td>\n",
       "      <td>PJ Kennedy</td>\n",
       "      <td>ES</td>\n",
       "      <td></td>\n",
       "      <td></td>\n",
       "      <td>72</td>\n",
       "      <td>3</td>\n",
       "      <td>Grace</td>\n",
       "      <td>783027.745829</td>\n",
       "      <td>2.963318e+06</td>\n",
       "    </tr>\n",
       "    <tr>\n",
       "      <th>2</th>\n",
       "      <td>-71.033891</td>\n",
       "      <td>42.375279</td>\n",
       "      <td>3</td>\n",
       "      <td>3</td>\n",
       "      <td>4</td>\n",
       "      <td>Otis Bldg</td>\n",
       "      <td>218 Marion Street</td>\n",
       "      <td>East Boston</td>\n",
       "      <td>2128</td>\n",
       "      <td>4322</td>\n",
       "      <td>...</td>\n",
       "      <td>Otis Elementary</td>\n",
       "      <td>Otis</td>\n",
       "      <td>ES</td>\n",
       "      <td></td>\n",
       "      <td></td>\n",
       "      <td>106</td>\n",
       "      <td>3</td>\n",
       "      <td>Grace</td>\n",
       "      <td>782112.823908</td>\n",
       "      <td>2.962122e+06</td>\n",
       "    </tr>\n",
       "    <tr>\n",
       "      <th>3</th>\n",
       "      <td>-71.038011</td>\n",
       "      <td>42.378089</td>\n",
       "      <td>4</td>\n",
       "      <td>4</td>\n",
       "      <td>6</td>\n",
       "      <td>Odonnell Bldg</td>\n",
       "      <td>33 Trenton Street</td>\n",
       "      <td>East Boston</td>\n",
       "      <td>2128</td>\n",
       "      <td>4543</td>\n",
       "      <td>...</td>\n",
       "      <td>O'Donnell Elementary</td>\n",
       "      <td>O'Donnell</td>\n",
       "      <td>ES</td>\n",
       "      <td></td>\n",
       "      <td></td>\n",
       "      <td>103</td>\n",
       "      <td>3</td>\n",
       "      <td>Grace</td>\n",
       "      <td>780994.000003</td>\n",
       "      <td>2.963140e+06</td>\n",
       "    </tr>\n",
       "    <tr>\n",
       "      <th>4</th>\n",
       "      <td>-71.034921</td>\n",
       "      <td>42.380957</td>\n",
       "      <td>5</td>\n",
       "      <td>5</td>\n",
       "      <td>7</td>\n",
       "      <td>East Boston High Bldg</td>\n",
       "      <td>86 White Street</td>\n",
       "      <td>East Boston</td>\n",
       "      <td>2128</td>\n",
       "      <td>1070</td>\n",
       "      <td>...</td>\n",
       "      <td>East Boston High</td>\n",
       "      <td>East Boston HS</td>\n",
       "      <td>HS</td>\n",
       "      <td></td>\n",
       "      <td></td>\n",
       "      <td>36</td>\n",
       "      <td>2</td>\n",
       "      <td>Joel</td>\n",
       "      <td>781823.000004</td>\n",
       "      <td>2.964190e+06</td>\n",
       "    </tr>\n",
       "  </tbody>\n",
       "</table>\n",
       "<p>5 rows × 21 columns</p>\n",
       "</div>"
      ],
      "text/plain": [
       "           X          Y  OBJECTID_1  OBJECTID  BLDG_ID              BLDG_NAME  \\\n",
       "0 -71.004121  42.388799           1         1        1             Guild Bldg   \n",
       "1 -71.030480  42.378545           2         2        3        Kennedy, P Bldg   \n",
       "2 -71.033891  42.375279           3         3        4              Otis Bldg   \n",
       "3 -71.038011  42.378089           4         4        6          Odonnell Bldg   \n",
       "4 -71.034921  42.380957           5         5        7  East Boston High Bldg   \n",
       "\n",
       "               ADDRESS         CITY  ZIPCODE  CSP_SCH_ID      ...       \\\n",
       "0    195 Leyden Street  East Boston     2128        4061      ...        \n",
       "1  343 Saratoga Street  East Boston     2128        4541      ...        \n",
       "2    218 Marion Street  East Boston     2128        4322      ...        \n",
       "3    33 Trenton Street  East Boston     2128        4543      ...        \n",
       "4      86 White Street  East Boston     2128        1070      ...        \n",
       "\n",
       "               SCH_NAME       SCH_LABEL SCH_TYPE SHARED COMPLEX Label  TLT  \\\n",
       "0      Guild Elementary           Guild       ES                   52    3   \n",
       "1  Kennedy Patrick Elem      PJ Kennedy       ES                   72    3   \n",
       "2       Otis Elementary            Otis       ES                  106    3   \n",
       "3  O'Donnell Elementary       O'Donnell       ES                  103    3   \n",
       "4      East Boston High  East Boston HS       HS                   36    2   \n",
       "\n",
       "      PL        POINT_X       POINT_Y  \n",
       "0  Grace  790128.152748  2.967094e+06  \n",
       "1  Grace  783027.745829  2.963318e+06  \n",
       "2  Grace  782112.823908  2.962122e+06  \n",
       "3  Grace  780994.000003  2.963140e+06  \n",
       "4   Joel  781823.000004  2.964190e+06  \n",
       "\n",
       "[5 rows x 21 columns]"
      ]
     },
     "execution_count": 8,
     "metadata": {},
     "output_type": "execute_result"
    }
   ],
   "source": [
    "schools = pd.read_csv('./data/boston_public_schools.csv')\n",
    "schools.head()"
   ]
  },
  {
   "cell_type": "code",
   "execution_count": 9,
   "metadata": {},
   "outputs": [
    {
     "data": {
      "image/png": "[encoded data removed]",
      "text/plain": [
       "<Figure size 864x576 with 1 Axes>"
      ]
     },
     "metadata": {},
     "output_type": "display_data"
    }
   ],
   "source": [
    "from mpl_toolkits.basemap import Basemap\n",
    "'''\n",
    "conda install -c anaconda basemap\n",
    "conda install basemap-data-hires\n",
    "'''\n",
    "\n",
    "fig = plt.figure(num=None, figsize=(12, 8) ) \n",
    "m = Basemap(width=50000,height=50000,projection='aea',\n",
    "            resolution='h',lat_1=41,lat_2=43,lat_0=42.361244,lon_0=-71.067975)\n",
    "m.drawcoastlines(linewidth=0.5)\n",
    "m.fillcontinents(color='tan',lake_color='lightblue')\n",
    "# draw parallels and meridians.\n",
    "m.drawmapboundary(fill_color='lightblue')\n",
    "\n",
    "x, y = m(-71.087908,42.362668)\n",
    "plt.plot(x, y, 'ok', markersize=5)\n",
    "plt.text(x, y, ' Boston Downtown', fontsize=12)\n",
    "\n",
    "x,y = m(np.asarray(schools['X']), np.asarray(schools['Y']))\n",
    "plt.plot(x, y, 'ok', markersize=5, color='r')\n",
    "\n",
    "\n",
    "plt.show()"
   ]
  },
  {
   "cell_type": "markdown",
   "metadata": {},
   "source": [
    "<img src=\"./data/boston.png\" alt=\"drawing\" width=\"500\"/>"
   ]
  },
  {
   "cell_type": "markdown",
   "metadata": {},
   "source": [
    "## Time Series\n",
    "A time series is a sequence of datapoints/measurements taken at successive (and usually equally spaced) points in time."
   ]
  },
  {
   "cell_type": "code",
   "execution_count": 10,
   "metadata": {},
   "outputs": [
    {
     "data": {
      "text/html": [
       "<div>\n",
       "<style scoped>\n",
       "    .dataframe tbody tr th:only-of-type {\n",
       "        vertical-align: middle;\n",
       "    }\n",
       "\n",
       "    .dataframe tbody tr th {\n",
       "        vertical-align: top;\n",
       "    }\n",
       "\n",
       "    .dataframe thead th {\n",
       "        text-align: right;\n",
       "    }\n",
       "</style>\n",
       "<table border=\"1\" class=\"dataframe\">\n",
       "  <thead>\n",
       "    <tr style=\"text-align: right;\">\n",
       "      <th></th>\n",
       "      <th>realtime_start</th>\n",
       "      <th>date</th>\n",
       "      <th>value</th>\n",
       "      <th>realtime_end</th>\n",
       "    </tr>\n",
       "  </thead>\n",
       "  <tbody>\n",
       "    <tr>\n",
       "      <th>0</th>\n",
       "      <td>2018-11-07</td>\n",
       "      <td>1940-01-01</td>\n",
       "      <td>26571</td>\n",
       "      <td>2018-11-07</td>\n",
       "    </tr>\n",
       "    <tr>\n",
       "      <th>1</th>\n",
       "      <td>2018-11-07</td>\n",
       "      <td>1941-01-01</td>\n",
       "      <td>.</td>\n",
       "      <td>2018-11-07</td>\n",
       "    </tr>\n",
       "    <tr>\n",
       "      <th>2</th>\n",
       "      <td>2018-11-07</td>\n",
       "      <td>1942-01-01</td>\n",
       "      <td>.</td>\n",
       "      <td>2018-11-07</td>\n",
       "    </tr>\n",
       "    <tr>\n",
       "      <th>3</th>\n",
       "      <td>2018-11-07</td>\n",
       "      <td>1943-01-01</td>\n",
       "      <td>.</td>\n",
       "      <td>2018-11-07</td>\n",
       "    </tr>\n",
       "    <tr>\n",
       "      <th>4</th>\n",
       "      <td>2018-11-07</td>\n",
       "      <td>1944-01-01</td>\n",
       "      <td>.</td>\n",
       "      <td>2018-11-07</td>\n",
       "    </tr>\n",
       "    <tr>\n",
       "      <th>5</th>\n",
       "      <td>2018-11-07</td>\n",
       "      <td>1945-01-01</td>\n",
       "      <td>.</td>\n",
       "      <td>2018-11-07</td>\n",
       "    </tr>\n",
       "    <tr>\n",
       "      <th>6</th>\n",
       "      <td>2018-11-07</td>\n",
       "      <td>1946-01-01</td>\n",
       "      <td>.</td>\n",
       "      <td>2018-11-07</td>\n",
       "    </tr>\n",
       "    <tr>\n",
       "      <th>7</th>\n",
       "      <td>2018-11-07</td>\n",
       "      <td>1947-01-01</td>\n",
       "      <td>30612</td>\n",
       "      <td>2018-11-07</td>\n",
       "    </tr>\n",
       "    <tr>\n",
       "      <th>8</th>\n",
       "      <td>2018-11-07</td>\n",
       "      <td>1948-01-01</td>\n",
       "      <td>31900</td>\n",
       "      <td>2018-11-07</td>\n",
       "    </tr>\n",
       "    <tr>\n",
       "      <th>9</th>\n",
       "      <td>2018-11-07</td>\n",
       "      <td>1949-01-01</td>\n",
       "      <td>33257</td>\n",
       "      <td>2018-11-07</td>\n",
       "    </tr>\n",
       "  </tbody>\n",
       "</table>\n",
       "</div>"
      ],
      "text/plain": [
       "  realtime_start        date  value realtime_end\n",
       "0     2018-11-07  1940-01-01  26571   2018-11-07\n",
       "1     2018-11-07  1941-01-01      .   2018-11-07\n",
       "2     2018-11-07  1942-01-01      .   2018-11-07\n",
       "3     2018-11-07  1943-01-01      .   2018-11-07\n",
       "4     2018-11-07  1944-01-01      .   2018-11-07\n",
       "5     2018-11-07  1945-01-01      .   2018-11-07\n",
       "6     2018-11-07  1946-01-01      .   2018-11-07\n",
       "7     2018-11-07  1947-01-01  30612   2018-11-07\n",
       "8     2018-11-07  1948-01-01  31900   2018-11-07\n",
       "9     2018-11-07  1949-01-01  33257   2018-11-07"
      ]
     },
     "execution_count": 10,
     "metadata": {},
     "output_type": "execute_result"
    }
   ],
   "source": [
    "households = pd.read_csv('./data/households_with_married_couples.csv')\n",
    "households.head(10)"
   ]
  },
  {
   "cell_type": "code",
   "execution_count": 11,
   "metadata": {},
   "outputs": [
    {
     "data": {
      "image/png": "[encoded data removed]",
      "text/plain": [
       "<Figure size 1080x720 with 1 Axes>"
      ]
     },
     "metadata": {
      "needs_background": "light"
     },
     "output_type": "display_data"
    }
   ],
   "source": [
    "plt.figure(figsize=(15,10))\n",
    "plt.plot(households['date'],households['value'])\n",
    "plt.xticks(rotation='vertical')\n",
    "plt.show()"
   ]
  },
  {
   "cell_type": "markdown",
   "metadata": {},
   "source": [
    "## Main Takeaways\n",
    "- Familiarize yourself with the dataset before doing any preprocessing or learning\n",
    "- Visualization techniques differ for each data type. Finding a proper visualization technique can be challenging"
   ]
  },
  {
   "cell_type": "markdown",
   "metadata": {},
   "source": [
    "-----\n",
    "# Data Cleaning\n",
    "Usually data includes a certain amount of noise. To improve the learning accuracy we need to clean the dataset from outliers and missing values which could potentially lead to misclassifications."
   ]
  },
  {
   "cell_type": "markdown",
   "metadata": {},
   "source": [
    "## Motivation"
   ]
  },
  {
   "cell_type": "code",
   "execution_count": 12,
   "metadata": {},
   "outputs": [
    {
     "data": {
      "text/plain": [
       "Text(0.5, 0, 'Size in m^2')"
      ]
     },
     "execution_count": 12,
     "metadata": {},
     "output_type": "execute_result"
    },
    {
     "data": {
      "image/png": "[encoded data removed]",
      "text/plain": [
       "<Figure size 432x288 with 1 Axes>"
      ]
     },
     "metadata": {
      "needs_background": "light"
     },
     "output_type": "display_data"
    }
   ],
   "source": [
    "flats = pd.read_csv('./data/flats_tuebingen.csv')\n",
    "plt.scatter(flats['size'],flats['rent'])\n",
    "plt.ylabel('Rent')\n",
    "plt.xlabel('Size in m^2')"
   ]
  },
  {
   "cell_type": "code",
   "execution_count": 13,
   "metadata": {},
   "outputs": [
    {
     "name": "stdout",
     "output_type": "stream",
     "text": [
      "Stats inlcuding the outlier:\n",
      "mean: 543.36\n",
      "std: 643.07\n",
      "corr: -0.22\n",
      "Stats not inlcuding the outlier:\n",
      "mean: 354.7\n",
      "std: 156.35\n",
      "corr: 0.03\n"
     ]
    }
   ],
   "source": [
    "#stats with the outlier\n",
    "mean = round(flats['rent'].mean(), 2)\n",
    "std = round(flats['rent'].std(), 2)\n",
    "corr = round(flats[['rent','size']].corr().loc['rent','size'], 2)\n",
    "print('Stats inlcuding the outlier:\\nmean: {}\\nstd: {}\\ncorr: {}'.format(mean,std,corr))\n",
    "\n",
    "flats_wo = flats.loc[0:9]\n",
    "mean = round(flats_wo['rent'].mean(), 2)\n",
    "std = round(flats_wo['rent'].std(), 2)\n",
    "corr = round(flats_wo[['rent','size']].corr().loc['rent','size'], 2)\n",
    "print('Stats not inlcuding the outlier:\\nmean: {}\\nstd: {}\\ncorr: {}'.format(mean,std,corr))"
   ]
  },
  {
   "cell_type": "markdown",
   "metadata": {},
   "source": [
    "## Changing format\n",
    "Sometimes we might want to change the datatype of certain variables for easier and more efficient learning (e.g. represent text strings as numeric categorical value)."
   ]
  },
  {
   "cell_type": "code",
   "execution_count": 14,
   "metadata": {},
   "outputs": [
    {
     "data": {
      "text/html": [
       "<div>\n",
       "<style scoped>\n",
       "    .dataframe tbody tr th:only-of-type {\n",
       "        vertical-align: middle;\n",
       "    }\n",
       "\n",
       "    .dataframe tbody tr th {\n",
       "        vertical-align: top;\n",
       "    }\n",
       "\n",
       "    .dataframe thead th {\n",
       "        text-align: right;\n",
       "    }\n",
       "</style>\n",
       "<table border=\"1\" class=\"dataframe\">\n",
       "  <thead>\n",
       "    <tr style=\"text-align: right;\">\n",
       "      <th></th>\n",
       "      <th>Age</th>\n",
       "      <th>Sex</th>\n",
       "      <th>Job</th>\n",
       "      <th>Housing</th>\n",
       "      <th>Saving accounts</th>\n",
       "      <th>Checking account</th>\n",
       "      <th>Credit amount</th>\n",
       "      <th>Duration</th>\n",
       "      <th>Purpose</th>\n",
       "      <th>Risk</th>\n",
       "    </tr>\n",
       "  </thead>\n",
       "  <tbody>\n",
       "    <tr>\n",
       "      <th>0</th>\n",
       "      <td>67</td>\n",
       "      <td>male</td>\n",
       "      <td>2</td>\n",
       "      <td>own</td>\n",
       "      <td>NaN</td>\n",
       "      <td>little</td>\n",
       "      <td>1169</td>\n",
       "      <td>6</td>\n",
       "      <td>radio/TV</td>\n",
       "      <td>good</td>\n",
       "    </tr>\n",
       "    <tr>\n",
       "      <th>1</th>\n",
       "      <td>22</td>\n",
       "      <td>female</td>\n",
       "      <td>2</td>\n",
       "      <td>own</td>\n",
       "      <td>little</td>\n",
       "      <td>moderate</td>\n",
       "      <td>5951</td>\n",
       "      <td>48</td>\n",
       "      <td>radio/TV</td>\n",
       "      <td>bad</td>\n",
       "    </tr>\n",
       "    <tr>\n",
       "      <th>2</th>\n",
       "      <td>49</td>\n",
       "      <td>male</td>\n",
       "      <td>1</td>\n",
       "      <td>own</td>\n",
       "      <td>little</td>\n",
       "      <td>NaN</td>\n",
       "      <td>2096</td>\n",
       "      <td>12</td>\n",
       "      <td>education</td>\n",
       "      <td>good</td>\n",
       "    </tr>\n",
       "    <tr>\n",
       "      <th>3</th>\n",
       "      <td>45</td>\n",
       "      <td>male</td>\n",
       "      <td>2</td>\n",
       "      <td>free</td>\n",
       "      <td>little</td>\n",
       "      <td>little</td>\n",
       "      <td>7882</td>\n",
       "      <td>42</td>\n",
       "      <td>furniture/equipment</td>\n",
       "      <td>good</td>\n",
       "    </tr>\n",
       "    <tr>\n",
       "      <th>4</th>\n",
       "      <td>53</td>\n",
       "      <td>male</td>\n",
       "      <td>2</td>\n",
       "      <td>free</td>\n",
       "      <td>little</td>\n",
       "      <td>little</td>\n",
       "      <td>4870</td>\n",
       "      <td>24</td>\n",
       "      <td>car</td>\n",
       "      <td>bad</td>\n",
       "    </tr>\n",
       "  </tbody>\n",
       "</table>\n",
       "</div>"
      ],
      "text/plain": [
       "   Age     Sex  Job Housing Saving accounts Checking account  Credit amount  \\\n",
       "0   67    male    2     own             NaN           little           1169   \n",
       "1   22  female    2     own          little         moderate           5951   \n",
       "2   49    male    1     own          little              NaN           2096   \n",
       "3   45    male    2    free          little           little           7882   \n",
       "4   53    male    2    free          little           little           4870   \n",
       "\n",
       "   Duration              Purpose  Risk  \n",
       "0         6             radio/TV  good  \n",
       "1        48             radio/TV   bad  \n",
       "2        12            education  good  \n",
       "3        42  furniture/equipment  good  \n",
       "4        24                  car   bad  "
      ]
     },
     "execution_count": 14,
     "metadata": {},
     "output_type": "execute_result"
    }
   ],
   "source": [
    "credit = pd.read_csv('./data/german_credit_data.csv', index_col=0)\n",
    "credit.head()"
   ]
  },
  {
   "cell_type": "code",
   "execution_count": 15,
   "metadata": {},
   "outputs": [
    {
     "name": "stdout",
     "output_type": "stream",
     "text": [
      "         Sex Housing Saving accounts Checking account Purpose  Risk\n",
      "count   1000    1000             817              606    1000  1000\n",
      "unique     2       3               4                3       8     2\n",
      "top     male     own          little           little     car  good\n",
      "freq     690     713             603              274     337   700\n"
     ]
    }
   ],
   "source": [
    "print(credit.describe(include=['O']))"
   ]
  },
  {
   "cell_type": "code",
   "execution_count": 16,
   "metadata": {},
   "outputs": [
    {
     "data": {
      "text/plain": [
       "{'Sex': array(['male', 'female'], dtype=object),\n",
       " 'Housing': array(['own', 'free', 'rent'], dtype=object),\n",
       " 'Purpose': array(['radio/TV', 'education', 'furniture/equipment', 'car', 'business',\n",
       "        'domestic appliances', 'repairs', 'vacation/others'], dtype=object),\n",
       " 'Risk': array(['good', 'bad'], dtype=object)}"
      ]
     },
     "execution_count": 16,
     "metadata": {},
     "output_type": "execute_result"
    }
   ],
   "source": [
    "#factorize the variables without NaNs: sex, housing, purpose & risk\n",
    "col_discretize = np.array(['Sex','Housing','Purpose','Risk'])\n",
    "categories = {}\n",
    "\n",
    "#save unique category strings\n",
    "for c in col_discretize:\n",
    "    categories[c] = credit[c].unique()\n",
    "\n",
    "credit[col_discretize] = credit[col_discretize].apply(lambda x: pd.factorize(x)[0])\n",
    "\n",
    "credit.head()\n",
    "categories"
   ]
  },
  {
   "cell_type": "markdown",
   "metadata": {},
   "source": [
    "## Handling missing values\n",
    "Missing values (NaN) can result in errors during the training of a model. It is therefore important to take care of missing values beforehand. There are different ways of handling missing values including the following:\n",
    "- Drop variables with missing values (huge potential loss of information)\n",
    "- Drop rows with missing values (still a potential loss of information)\n",
    "- Imputation: replace missing values with some number (usually with the mean of the variable)\n",
    "\n",
    "As *Saving accounts* and *Checking account* are categorical variables, we will not replace missing values with the mean but with the mode. Another option would be to introduce NaN as a new category. \n",
    "\n",
    "There are also more sophisticated imputation techniques, for example using [KNNs](https://www.ncbi.nlm.nih.gov/pubmed/11395428) or [GANs](https://arxiv.org/pdf/1806.02920.pdf). We invite you to learn more about different imputation techniques and to apply your knowledge in the upcoming homework. Note that some imputation techniques are already implemented in Python, see the [fancyimpute](https://pypi.org/project/fancyimpute/) module for example."
   ]
  },
  {
   "cell_type": "code",
   "execution_count": 17,
   "metadata": {},
   "outputs": [
    {
     "name": "stdout",
     "output_type": "stream",
     "text": [
      "NaN columns dropped:\n",
      "   Age  Sex  Job  Housing  Credit amount  Duration  Purpose  Risk\n",
      "0   67    0    2        0           1169         6        0     0\n",
      "1   22    1    2        0           5951        48        0     1\n",
      "2   49    0    1        0           2096        12        1     0\n",
      "3   45    0    2        1           7882        42        2     0\n",
      "4   53    0    2        1           4870        24        3     1\n",
      "------------------\n",
      "NaN rows dropped:\n",
      "   Age  Sex  Job  Housing Saving accounts Checking account  Credit amount  \\\n",
      "1   22    1    2        0          little         moderate           5951   \n",
      "3   45    0    2        1          little           little           7882   \n",
      "4   53    0    2        1          little           little           4870   \n",
      "7   35    0    3        2          little         moderate           6948   \n",
      "9   28    0    3        0          little         moderate           5234   \n",
      "\n",
      "   Duration  Purpose  Risk  \n",
      "1        48        0     1  \n",
      "3        42        2     0  \n",
      "4        24        3     1  \n",
      "7        36        3     0  \n",
      "9        30        3     1  \n",
      "------------------\n",
      "NaN values replaced with mode:\n",
      "  Age Sex Job Housing Saving accounts Checking account Credit amount Duration  \\\n",
      "0  67   0   2       0          little           little          1169        6   \n",
      "1  22   1   2       0          little         moderate          5951       48   \n",
      "2  49   0   1       0          little           little          2096       12   \n",
      "3  45   0   2       1          little           little          7882       42   \n",
      "4  53   0   2       1          little           little          4870       24   \n",
      "\n",
      "  Purpose Risk  \n",
      "0       0    0  \n",
      "1       0    1  \n",
      "2       1    0  \n",
      "3       2    0  \n",
      "4       3    1  \n",
      "------------------\n"
     ]
    }
   ],
   "source": [
    "#drop all columns that include NaN\n",
    "credit_column_drop = credit.dropna(axis=1)\n",
    "print('NaN columns dropped:')\n",
    "print(credit_column_drop.head())\n",
    "print('------------------')\n",
    "\n",
    "#drop all rows that include NaN\n",
    "credit_row_drop = credit.dropna()\n",
    "print('NaN rows dropped:')\n",
    "print(credit_row_drop.head())\n",
    "print('------------------')\n",
    "\n",
    "#replace NaN with variable mode\n",
    "from sklearn.impute import SimpleImputer\n",
    "'''\n",
    "conda install -c anaconda scikit-learn\n",
    "'''\n",
    "\n",
    "imp = SimpleImputer(strategy='most_frequent')\n",
    "credit_imputed = pd.DataFrame(imp.fit_transform(credit))\n",
    "credit_imputed.columns = credit.columns\n",
    "\n",
    "print('NaN values replaced with mode:')\n",
    "print(credit_imputed.head())\n",
    "print('------------------')"
   ]
  },
  {
   "cell_type": "markdown",
   "metadata": {},
   "source": [
    "We choose the third option: imputation. Afterwards we transfer the remaining textual variables to discrete numeric variables:"
   ]
  },
  {
   "cell_type": "code",
   "execution_count": 18,
   "metadata": {},
   "outputs": [
    {
     "data": {
      "text/html": [
       "<div>\n",
       "<style scoped>\n",
       "    .dataframe tbody tr th:only-of-type {\n",
       "        vertical-align: middle;\n",
       "    }\n",
       "\n",
       "    .dataframe tbody tr th {\n",
       "        vertical-align: top;\n",
       "    }\n",
       "\n",
       "    .dataframe thead th {\n",
       "        text-align: right;\n",
       "    }\n",
       "</style>\n",
       "<table border=\"1\" class=\"dataframe\">\n",
       "  <thead>\n",
       "    <tr style=\"text-align: right;\">\n",
       "      <th></th>\n",
       "      <th>Age</th>\n",
       "      <th>Sex</th>\n",
       "      <th>Job</th>\n",
       "      <th>Housing</th>\n",
       "      <th>Saving accounts</th>\n",
       "      <th>Checking account</th>\n",
       "      <th>Credit amount</th>\n",
       "      <th>Duration</th>\n",
       "      <th>Purpose</th>\n",
       "      <th>Risk</th>\n",
       "    </tr>\n",
       "  </thead>\n",
       "  <tbody>\n",
       "    <tr>\n",
       "      <th>0</th>\n",
       "      <td>67</td>\n",
       "      <td>0</td>\n",
       "      <td>2</td>\n",
       "      <td>0</td>\n",
       "      <td>0</td>\n",
       "      <td>0</td>\n",
       "      <td>1169</td>\n",
       "      <td>6</td>\n",
       "      <td>0</td>\n",
       "      <td>0</td>\n",
       "    </tr>\n",
       "    <tr>\n",
       "      <th>1</th>\n",
       "      <td>22</td>\n",
       "      <td>1</td>\n",
       "      <td>2</td>\n",
       "      <td>0</td>\n",
       "      <td>0</td>\n",
       "      <td>1</td>\n",
       "      <td>5951</td>\n",
       "      <td>48</td>\n",
       "      <td>0</td>\n",
       "      <td>1</td>\n",
       "    </tr>\n",
       "    <tr>\n",
       "      <th>2</th>\n",
       "      <td>49</td>\n",
       "      <td>0</td>\n",
       "      <td>1</td>\n",
       "      <td>0</td>\n",
       "      <td>0</td>\n",
       "      <td>0</td>\n",
       "      <td>2096</td>\n",
       "      <td>12</td>\n",
       "      <td>1</td>\n",
       "      <td>0</td>\n",
       "    </tr>\n",
       "    <tr>\n",
       "      <th>3</th>\n",
       "      <td>45</td>\n",
       "      <td>0</td>\n",
       "      <td>2</td>\n",
       "      <td>1</td>\n",
       "      <td>0</td>\n",
       "      <td>0</td>\n",
       "      <td>7882</td>\n",
       "      <td>42</td>\n",
       "      <td>2</td>\n",
       "      <td>0</td>\n",
       "    </tr>\n",
       "    <tr>\n",
       "      <th>4</th>\n",
       "      <td>53</td>\n",
       "      <td>0</td>\n",
       "      <td>2</td>\n",
       "      <td>1</td>\n",
       "      <td>0</td>\n",
       "      <td>0</td>\n",
       "      <td>4870</td>\n",
       "      <td>24</td>\n",
       "      <td>3</td>\n",
       "      <td>1</td>\n",
       "    </tr>\n",
       "  </tbody>\n",
       "</table>\n",
       "</div>"
      ],
      "text/plain": [
       "  Age Sex Job Housing  Saving accounts  Checking account Credit amount  \\\n",
       "0  67   0   2       0                0                 0          1169   \n",
       "1  22   1   2       0                0                 1          5951   \n",
       "2  49   0   1       0                0                 0          2096   \n",
       "3  45   0   2       1                0                 0          7882   \n",
       "4  53   0   2       1                0                 0          4870   \n",
       "\n",
       "  Duration Purpose Risk  \n",
       "0        6       0    0  \n",
       "1       48       0    1  \n",
       "2       12       1    0  \n",
       "3       42       2    0  \n",
       "4       24       3    1  "
      ]
     },
     "execution_count": 18,
     "metadata": {},
     "output_type": "execute_result"
    }
   ],
   "source": [
    "import math\n",
    "\n",
    "# factorize Saving accounts and Cheking account\n",
    "col_discretize = np.array(['Saving accounts','Checking account'])\n",
    "\n",
    "#save unique category strings\n",
    "for c in col_discretize:\n",
    "    uniques = credit[c].unique()\n",
    "    uniques = uniques[~pd.isnull(uniques)] # remove NaNs\n",
    "    categories[c] = uniques\n",
    "\n",
    "credit = credit_imputed[:]\n",
    "credit[['Saving accounts','Checking account']] = credit[['Saving accounts','Checking account']].apply(lambda x: pd.factorize(x)[0])\n",
    "\n",
    "credit.head()"
   ]
  },
  {
   "cell_type": "code",
   "execution_count": 19,
   "metadata": {},
   "outputs": [
    {
     "name": "stdout",
     "output_type": "stream",
     "text": [
      "Before convertion to numeric:\n",
      " Age                 object\n",
      "Sex                 object\n",
      "Job                 object\n",
      "Housing             object\n",
      "Saving accounts      int64\n",
      "Checking account     int64\n",
      "Credit amount       object\n",
      "Duration            object\n",
      "Purpose             object\n",
      "Risk                object\n",
      "dtype: object\n",
      "------\n",
      " After convertion to numeric:\n",
      " Age                 int64\n",
      "Sex                 int64\n",
      "Job                 int64\n",
      "Housing             int64\n",
      "Saving accounts     int64\n",
      "Checking account    int64\n",
      "Credit amount       int64\n",
      "Duration            int64\n",
      "Purpose             int64\n",
      "Risk                int64\n",
      "dtype: object\n"
     ]
    }
   ],
   "source": [
    "#convert objects to numeric datatype\n",
    "print('Before convertion to numeric:\\n',credit.dtypes)\n",
    "credit = credit.apply(pd.to_numeric)\n",
    "print('------\\n','After convertion to numeric:\\n',credit.dtypes)"
   ]
  },
  {
   "cell_type": "markdown",
   "metadata": {},
   "source": [
    "## Handling Outliers\n",
    "After the discretization of variables and the imputation of missing values, our dataset already looks pretty neat. However, our dataset might still include a danger which is not so obvious: outliers. Outliers are values that diverge from the distribution of the remaining values. It is difficult to find outliers in large datasets. There are several methods for the detection and removal of outliers:\n",
    "- Detection by visualization (manual approach, find outliers by looking at the plotted distributions)\n",
    "- Using z-score\n",
    "- Using Interquartile Range"
   ]
  },
  {
   "cell_type": "markdown",
   "metadata": {},
   "source": [
    "### Outlier detection by visualization"
   ]
  },
  {
   "cell_type": "code",
   "execution_count": 20,
   "metadata": {},
   "outputs": [
    {
     "data": {
      "text/plain": [
       "<matplotlib.axes._subplots.AxesSubplot at 0x7fe29e33f198>"
      ]
     },
     "execution_count": 20,
     "metadata": {},
     "output_type": "execute_result"
    },
    {
     "data": {
      "image/png": "[encoded data removed]",
      "text/plain": [
       "<Figure size 1440x360 with 3 Axes>"
      ]
     },
     "metadata": {
      "needs_background": "light"
     },
     "output_type": "display_data"
    }
   ],
   "source": [
    "#Plot distribution\n",
    "import seaborn as sns\n",
    "fig, axs = plt.subplots(1,3, figsize=(20,5))\n",
    "sns.boxplot(x=credit['Age'].astype(float), ax=axs[0])\n",
    "sns.boxplot(x=credit['Duration'].astype(float), ax=axs[1])\n",
    "sns.boxplot(x=credit['Purpose'].astype(float),y=credit['Credit amount'].astype(float), ax=axs[2])"
   ]
  },
  {
   "cell_type": "markdown",
   "metadata": {},
   "source": [
    "### Outlier detection using z-score\n",
    "The idea of the z-score is to describe any datapoint by finding their relationship with the standard deviation and mean. The zscore is basically the number of standard deviations a datapoint spreads from the mean (where a negative z-score indicates that the datapoint lies to the left of the mean and positive z-score indicates that the datapoint lies to the right of the mean). The z-score of a value $x_i$ with the mean $\\mu$ and the standard deviation $\\sigma$ is calculated as follows: $$z_i = \\frac{x_i - \\mu}{\\sigma}$$\n",
    "While calculating the z-score we are re-scaling and centering the data, which means we could consider all values that spread too far from zero as outliers.<br>\n",
    "**Note:** It does not make sense to calculate the z-score for categorical variables, which is why we only perform outlier detection on the numerical variables *Credit amount* and *Duration*."
   ]
  },
  {
   "cell_type": "code",
   "execution_count": 21,
   "metadata": {},
   "outputs": [
    {
     "name": "stdout",
     "output_type": "stream",
     "text": [
      "   Credit amount  Duration\n",
      "0       0.745131  1.236478\n",
      "1       0.949817  2.248194\n",
      "2       0.416562  0.738668\n",
      "3       1.634247  1.750384\n",
      "4       0.566664  0.256953\n"
     ]
    }
   ],
   "source": [
    "from scipy.stats import zscore\n",
    "columns = ['Credit amount','Duration']\n",
    "ztable = credit[columns].apply(zscore)\n",
    "ztable = ztable.apply(np.abs)\n",
    "print(ztable.head())"
   ]
  },
  {
   "cell_type": "code",
   "execution_count": 22,
   "metadata": {},
   "outputs": [
    {
     "name": "stdout",
     "output_type": "stream",
     "text": [
      "We found a total of 35 outliers.\n"
     ]
    }
   ],
   "source": [
    "outliers = set()\n",
    "\n",
    "for c in columns: # iterate over the two columns\n",
    "    for item in ztable.index[ztable[c] > 3].tolist(): # you might want to test different thresholds before selecting one\n",
    "        outliers.add(item) # add all outlier indices of respective column to outlier set\n",
    "print('We found a total of {} outliers.'.format(len(outliers)))"
   ]
  },
  {
   "cell_type": "code",
   "execution_count": 23,
   "metadata": {},
   "outputs": [
    {
     "name": "stdout",
     "output_type": "stream",
     "text": [
      "(1000, 10)\n",
      "(965, 10)\n"
     ]
    }
   ],
   "source": [
    "print(credit.shape)\n",
    "credit_zscore_outlier_removal = credit.loc[~credit.index.isin(outliers)]\n",
    "print(credit_zscore_outlier_removal.shape)"
   ]
  },
  {
   "cell_type": "markdown",
   "metadata": {},
   "source": [
    "### Outlier detection using interquartile range\n",
    "The interquartile range (IQR) is the difference between the 75 and 25 percentile (i.e. the upper quartile Q3 and lower quartile Q1). We assume that most datapoints lie within Q1 and Q3 and are thus \"covered\" by IQR. Now any value that spreads too far from this range can be assumed an outlier.<br>\n",
    "**Note:** Again we are performing outlier detection solely on non-categorical variables."
   ]
  },
  {
   "cell_type": "code",
   "execution_count": 24,
   "metadata": {},
   "outputs": [],
   "source": [
    "q1 = credit[columns].quantile(0.25)\n",
    "q3 = credit[columns].quantile(0.75)\n",
    "iqr = q3 - q1"
   ]
  },
  {
   "cell_type": "code",
   "execution_count": 25,
   "metadata": {},
   "outputs": [
    {
     "name": "stdout",
     "output_type": "stream",
     "text": [
      "Credit amount :  50\n",
      "Duration :  58\n"
     ]
    }
   ],
   "source": [
    "outliers = set()\n",
    "\n",
    "for c in columns:\n",
    "    thr_low = q1[c] - 2 * iqr[c] # you might want to test different thresholds before selecting one\n",
    "    thr_up = q3[c] + 2 * iqr[c]\n",
    "    \n",
    "    lower_out = credit[c].index[credit[c] < thr_low].tolist()\n",
    "    upper_out = credit[c].index[credit[c] > thr_up].tolist()\n",
    "    \n",
    "    [outliers.add(x) for x in lower_out]\n",
    "    [outliers.add(x) for x in upper_out]\n",
    "    print(c,': ', len(outliers))"
   ]
  },
  {
   "cell_type": "code",
   "execution_count": 26,
   "metadata": {},
   "outputs": [
    {
     "name": "stdout",
     "output_type": "stream",
     "text": [
      "(1000, 10)\n",
      "(942, 10)\n"
     ]
    }
   ],
   "source": [
    "print(credit.shape)\n",
    "credit_iqr_outlier_removal = credit.loc[~credit.index.isin(outliers)]\n",
    "print(credit_iqr_outlier_removal.shape)"
   ]
  },
  {
   "cell_type": "markdown",
   "metadata": {},
   "source": [
    "For the upcoming introduction to binary classification we will use the cleaned dataset as produced by z-score outlier detection."
   ]
  },
  {
   "cell_type": "markdown",
   "metadata": {},
   "source": [
    "## One Hot Encoding\n",
    "Some ML algorithms interpret numerical data in a way, such that x > y implies x is better than y. This does not make any sense for our categorical variables, where the numbers just represent a certain category. Take the *Purpose* variable as an example: the category 3 (car) could be preferred over the category 2 (furniture/equipment) just because 3 > 2, which might lead to misclassifications. To avoid this we introduce One Hot Encoding.<br> \n",
    "One Hot Encoding transforms a given array into a sparse matrix, where each column represents a distinct value of the given array. For example, imagine we have an array including the 3 distinct values {a, b, c}. The instance $x_i = a$ of that array would be represented as [1, 0, 0] in the new sparse matrix."
   ]
  },
  {
   "cell_type": "code",
   "execution_count": 27,
   "metadata": {},
   "outputs": [
    {
     "data": {
      "text/html": [
       "<div>\n",
       "<style scoped>\n",
       "    .dataframe tbody tr th:only-of-type {\n",
       "        vertical-align: middle;\n",
       "    }\n",
       "\n",
       "    .dataframe tbody tr th {\n",
       "        vertical-align: top;\n",
       "    }\n",
       "\n",
       "    .dataframe thead th {\n",
       "        text-align: right;\n",
       "    }\n",
       "</style>\n",
       "<table border=\"1\" class=\"dataframe\">\n",
       "  <thead>\n",
       "    <tr style=\"text-align: right;\">\n",
       "      <th></th>\n",
       "      <th>Age</th>\n",
       "      <th>Sex</th>\n",
       "      <th>Job</th>\n",
       "      <th>Housing</th>\n",
       "      <th>Saving accounts</th>\n",
       "      <th>Checking account</th>\n",
       "      <th>Credit amount</th>\n",
       "      <th>Duration</th>\n",
       "      <th>Purpose</th>\n",
       "      <th>Risk</th>\n",
       "    </tr>\n",
       "  </thead>\n",
       "  <tbody>\n",
       "    <tr>\n",
       "      <th>0</th>\n",
       "      <td>67</td>\n",
       "      <td>0</td>\n",
       "      <td>2</td>\n",
       "      <td>0</td>\n",
       "      <td>0</td>\n",
       "      <td>0</td>\n",
       "      <td>1169</td>\n",
       "      <td>6</td>\n",
       "      <td>0</td>\n",
       "      <td>0</td>\n",
       "    </tr>\n",
       "    <tr>\n",
       "      <th>1</th>\n",
       "      <td>22</td>\n",
       "      <td>1</td>\n",
       "      <td>2</td>\n",
       "      <td>0</td>\n",
       "      <td>0</td>\n",
       "      <td>1</td>\n",
       "      <td>5951</td>\n",
       "      <td>48</td>\n",
       "      <td>0</td>\n",
       "      <td>1</td>\n",
       "    </tr>\n",
       "    <tr>\n",
       "      <th>2</th>\n",
       "      <td>49</td>\n",
       "      <td>0</td>\n",
       "      <td>1</td>\n",
       "      <td>0</td>\n",
       "      <td>0</td>\n",
       "      <td>0</td>\n",
       "      <td>2096</td>\n",
       "      <td>12</td>\n",
       "      <td>1</td>\n",
       "      <td>0</td>\n",
       "    </tr>\n",
       "    <tr>\n",
       "      <th>3</th>\n",
       "      <td>45</td>\n",
       "      <td>0</td>\n",
       "      <td>2</td>\n",
       "      <td>1</td>\n",
       "      <td>0</td>\n",
       "      <td>0</td>\n",
       "      <td>7882</td>\n",
       "      <td>42</td>\n",
       "      <td>2</td>\n",
       "      <td>0</td>\n",
       "    </tr>\n",
       "    <tr>\n",
       "      <th>4</th>\n",
       "      <td>53</td>\n",
       "      <td>0</td>\n",
       "      <td>2</td>\n",
       "      <td>1</td>\n",
       "      <td>0</td>\n",
       "      <td>0</td>\n",
       "      <td>4870</td>\n",
       "      <td>24</td>\n",
       "      <td>3</td>\n",
       "      <td>1</td>\n",
       "    </tr>\n",
       "  </tbody>\n",
       "</table>\n",
       "</div>"
      ],
      "text/plain": [
       "   Age  Sex  Job  Housing  Saving accounts  Checking account  Credit amount  \\\n",
       "0   67    0    2        0                0                 0           1169   \n",
       "1   22    1    2        0                0                 1           5951   \n",
       "2   49    0    1        0                0                 0           2096   \n",
       "3   45    0    2        1                0                 0           7882   \n",
       "4   53    0    2        1                0                 0           4870   \n",
       "\n",
       "   Duration  Purpose  Risk  \n",
       "0         6        0     0  \n",
       "1        48        0     1  \n",
       "2        12        1     0  \n",
       "3        42        2     0  \n",
       "4        24        3     1  "
      ]
     },
     "execution_count": 27,
     "metadata": {},
     "output_type": "execute_result"
    }
   ],
   "source": [
    "credit = credit_zscore_outlier_removal[:]\n",
    "credit.head()"
   ]
  },
  {
   "cell_type": "code",
   "execution_count": 28,
   "metadata": {},
   "outputs": [
    {
     "data": {
      "text/plain": [
       "{'Housing': array(['own', 'free', 'rent'], dtype=object),\n",
       " 'Purpose': array(['radio/TV', 'education', 'furniture/equipment', 'car', 'business',\n",
       "        'domestic appliances', 'repairs', 'vacation/others'], dtype=object),\n",
       " 'Saving accounts': array(['little', 'quite rich', 'rich', 'moderate'], dtype=object),\n",
       " 'Checking account': array(['little', 'moderate', 'rich'], dtype=object)}"
      ]
     },
     "execution_count": 28,
     "metadata": {},
     "output_type": "execute_result"
    }
   ],
   "source": [
    "# remove binary variables from category dict, since we do not want to apply One Hot encoding on those\n",
    "del categories['Sex']\n",
    "del categories['Risk']\n",
    "categories"
   ]
  },
  {
   "cell_type": "code",
   "execution_count": 29,
   "metadata": {},
   "outputs": [
    {
     "data": {
      "text/html": [
       "<div>\n",
       "<style scoped>\n",
       "    .dataframe tbody tr th:only-of-type {\n",
       "        vertical-align: middle;\n",
       "    }\n",
       "\n",
       "    .dataframe tbody tr th {\n",
       "        vertical-align: top;\n",
       "    }\n",
       "\n",
       "    .dataframe thead th {\n",
       "        text-align: right;\n",
       "    }\n",
       "</style>\n",
       "<table border=\"1\" class=\"dataframe\">\n",
       "  <thead>\n",
       "    <tr style=\"text-align: right;\">\n",
       "      <th></th>\n",
       "      <th>Age</th>\n",
       "      <th>Sex</th>\n",
       "      <th>Job</th>\n",
       "      <th>Credit amount</th>\n",
       "      <th>Duration</th>\n",
       "      <th>Risk</th>\n",
       "      <th>Housing_own</th>\n",
       "      <th>Housing_free</th>\n",
       "      <th>Housing_rent</th>\n",
       "      <th>Purpose_radio/TV</th>\n",
       "      <th>...</th>\n",
       "      <th>Purpose_domestic appliances</th>\n",
       "      <th>Purpose_repairs</th>\n",
       "      <th>Purpose_vacation/others</th>\n",
       "      <th>Saving accounts_little</th>\n",
       "      <th>Saving accounts_quite rich</th>\n",
       "      <th>Saving accounts_rich</th>\n",
       "      <th>Saving accounts_moderate</th>\n",
       "      <th>Checking account_little</th>\n",
       "      <th>Checking account_moderate</th>\n",
       "      <th>Checking account_rich</th>\n",
       "    </tr>\n",
       "  </thead>\n",
       "  <tbody>\n",
       "    <tr>\n",
       "      <th>0</th>\n",
       "      <td>67</td>\n",
       "      <td>0</td>\n",
       "      <td>2</td>\n",
       "      <td>1169</td>\n",
       "      <td>6</td>\n",
       "      <td>0</td>\n",
       "      <td>1</td>\n",
       "      <td>0</td>\n",
       "      <td>0</td>\n",
       "      <td>1</td>\n",
       "      <td>...</td>\n",
       "      <td>0</td>\n",
       "      <td>0</td>\n",
       "      <td>0</td>\n",
       "      <td>1</td>\n",
       "      <td>0</td>\n",
       "      <td>0</td>\n",
       "      <td>0</td>\n",
       "      <td>1</td>\n",
       "      <td>0</td>\n",
       "      <td>0</td>\n",
       "    </tr>\n",
       "    <tr>\n",
       "      <th>1</th>\n",
       "      <td>22</td>\n",
       "      <td>1</td>\n",
       "      <td>2</td>\n",
       "      <td>5951</td>\n",
       "      <td>48</td>\n",
       "      <td>1</td>\n",
       "      <td>1</td>\n",
       "      <td>0</td>\n",
       "      <td>0</td>\n",
       "      <td>1</td>\n",
       "      <td>...</td>\n",
       "      <td>0</td>\n",
       "      <td>0</td>\n",
       "      <td>0</td>\n",
       "      <td>1</td>\n",
       "      <td>0</td>\n",
       "      <td>0</td>\n",
       "      <td>0</td>\n",
       "      <td>0</td>\n",
       "      <td>1</td>\n",
       "      <td>0</td>\n",
       "    </tr>\n",
       "    <tr>\n",
       "      <th>2</th>\n",
       "      <td>49</td>\n",
       "      <td>0</td>\n",
       "      <td>1</td>\n",
       "      <td>2096</td>\n",
       "      <td>12</td>\n",
       "      <td>0</td>\n",
       "      <td>1</td>\n",
       "      <td>0</td>\n",
       "      <td>0</td>\n",
       "      <td>0</td>\n",
       "      <td>...</td>\n",
       "      <td>0</td>\n",
       "      <td>0</td>\n",
       "      <td>0</td>\n",
       "      <td>1</td>\n",
       "      <td>0</td>\n",
       "      <td>0</td>\n",
       "      <td>0</td>\n",
       "      <td>1</td>\n",
       "      <td>0</td>\n",
       "      <td>0</td>\n",
       "    </tr>\n",
       "    <tr>\n",
       "      <th>3</th>\n",
       "      <td>45</td>\n",
       "      <td>0</td>\n",
       "      <td>2</td>\n",
       "      <td>7882</td>\n",
       "      <td>42</td>\n",
       "      <td>0</td>\n",
       "      <td>0</td>\n",
       "      <td>1</td>\n",
       "      <td>0</td>\n",
       "      <td>0</td>\n",
       "      <td>...</td>\n",
       "      <td>0</td>\n",
       "      <td>0</td>\n",
       "      <td>0</td>\n",
       "      <td>1</td>\n",
       "      <td>0</td>\n",
       "      <td>0</td>\n",
       "      <td>0</td>\n",
       "      <td>1</td>\n",
       "      <td>0</td>\n",
       "      <td>0</td>\n",
       "    </tr>\n",
       "    <tr>\n",
       "      <th>4</th>\n",
       "      <td>53</td>\n",
       "      <td>0</td>\n",
       "      <td>2</td>\n",
       "      <td>4870</td>\n",
       "      <td>24</td>\n",
       "      <td>1</td>\n",
       "      <td>0</td>\n",
       "      <td>1</td>\n",
       "      <td>0</td>\n",
       "      <td>0</td>\n",
       "      <td>...</td>\n",
       "      <td>0</td>\n",
       "      <td>0</td>\n",
       "      <td>0</td>\n",
       "      <td>1</td>\n",
       "      <td>0</td>\n",
       "      <td>0</td>\n",
       "      <td>0</td>\n",
       "      <td>1</td>\n",
       "      <td>0</td>\n",
       "      <td>0</td>\n",
       "    </tr>\n",
       "  </tbody>\n",
       "</table>\n",
       "<p>5 rows × 24 columns</p>\n",
       "</div>"
      ],
      "text/plain": [
       "   Age  Sex  Job  Credit amount  Duration  Risk  Housing_own  Housing_free  \\\n",
       "0   67    0    2           1169         6     0            1             0   \n",
       "1   22    1    2           5951        48     1            1             0   \n",
       "2   49    0    1           2096        12     0            1             0   \n",
       "3   45    0    2           7882        42     0            0             1   \n",
       "4   53    0    2           4870        24     1            0             1   \n",
       "\n",
       "   Housing_rent  Purpose_radio/TV          ...            \\\n",
       "0             0                 1          ...             \n",
       "1             0                 1          ...             \n",
       "2             0                 0          ...             \n",
       "3             0                 0          ...             \n",
       "4             0                 0          ...             \n",
       "\n",
       "   Purpose_domestic appliances  Purpose_repairs  Purpose_vacation/others  \\\n",
       "0                            0                0                        0   \n",
       "1                            0                0                        0   \n",
       "2                            0                0                        0   \n",
       "3                            0                0                        0   \n",
       "4                            0                0                        0   \n",
       "\n",
       "   Saving accounts_little  Saving accounts_quite rich  Saving accounts_rich  \\\n",
       "0                       1                           0                     0   \n",
       "1                       1                           0                     0   \n",
       "2                       1                           0                     0   \n",
       "3                       1                           0                     0   \n",
       "4                       1                           0                     0   \n",
       "\n",
       "   Saving accounts_moderate  Checking account_little  \\\n",
       "0                         0                        1   \n",
       "1                         0                        0   \n",
       "2                         0                        1   \n",
       "3                         0                        1   \n",
       "4                         0                        1   \n",
       "\n",
       "   Checking account_moderate  Checking account_rich  \n",
       "0                          0                      0  \n",
       "1                          1                      0  \n",
       "2                          0                      0  \n",
       "3                          0                      0  \n",
       "4                          0                      0  \n",
       "\n",
       "[5 rows x 24 columns]"
      ]
     },
     "execution_count": 29,
     "metadata": {},
     "output_type": "execute_result"
    }
   ],
   "source": [
    "for c in categories:\n",
    "    sparse_mat = pd.get_dummies(credit[c])\n",
    "    sparse_mat.columns = c + '_' + categories[c]\n",
    "    credit = credit.drop(c, axis=1)\n",
    "    credit = credit.join(sparse_mat)\n",
    "\n",
    "credit.head()"
   ]
  },
  {
   "cell_type": "code",
   "execution_count": 30,
   "metadata": {},
   "outputs": [],
   "source": [
    "credit.to_csv('./data/cleaned_german_credit_data.csv')"
   ]
  },
  {
   "cell_type": "markdown",
   "metadata": {},
   "source": [
    "## Main Takeaways\n",
    "- Preprocessing and cleaning of data can prevent errors during the model training\n",
    "- What techniques you apply to clean your data is highly dependent on the given dataset\n",
    "- Data Cleaning is a very complex and time consuming task that should not be underestimated"
   ]
  }
 ],
 "metadata": {
  "kernelspec": {
   "display_name": "Python 3",
   "language": "python",
   "name": "python3"
  },
  "language_info": {
   "codemirror_mode": {
    "name": "ipython",
    "version": 3
   },
   "file_extension": ".py",
   "mimetype": "text/x-python",
   "name": "python",
   "nbconvert_exporter": "python",
   "pygments_lexer": "ipython3",
   "version": "3.6.4"
  }
 },
 "nbformat": 4,
 "nbformat_minor": 2
}
