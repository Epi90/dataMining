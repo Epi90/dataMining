{
 "cells": [
  {
   "cell_type": "markdown",
   "metadata": {},
   "source": [
    "# Data Mining and Probabilistic Reasoning, WS18/19\n",
    "\n",
    "\n",
    "Dr. Gjergji Kasneci, The University of Tübingen\n",
    "\n",
    "-----\n",
    "## Basics of Probability Theory using Python\n",
    "-----\n",
    "\n",
    "###### Date 29/10/2018\n",
    "\n",
    "Teaching assistants:\n",
    "\n",
    " - Vadim Borisov (vadim.borisov@uni-tuebingen.de)\n",
    "\n",
    " - Johannes Haug (johannes-christian.haug@uni-tuebingen.de)"
   ]
  },
  {
   "cell_type": "code",
   "execution_count": 1,
   "metadata": {},
   "outputs": [
    {
     "data": {
      "text/plain": [
       "<matplotlib.figure.Figure at 0x7f2a6828a9b0>"
      ]
     },
     "execution_count": 1,
     "metadata": {},
     "output_type": "execute_result"
    }
   ],
   "source": [
    "# loading python libraries \n",
    "import numpy as np\n",
    "from scipy import stats\n",
    "\n",
    "import matplotlib.pyplot as plt\n",
    "plt.style.use('ggplot')\n",
    "plt.figure(figsize=(13, 10))\n"
   ]
  },
  {
   "cell_type": "markdown",
   "metadata": {},
   "source": [
    "# Bernoulli distribution "
   ]
  },
  {
   "cell_type": "markdown",
   "metadata": {},
   "source": [
    "\n",
    "$$P(X=x)= p^{x}(1-p)^{1-x}$$\n",
    "\n",
    "\n",
    "In literature:\n",
    "\n",
    "```X ~ Bernoulli(p)```"
   ]
  },
  {
   "cell_type": "code",
   "execution_count": 5,
   "metadata": {},
   "outputs": [
    {
     "name": "stdout",
     "output_type": "stream",
     "text": [
      "P(0) =  0.045000000000000005\n",
      "P(x<=2) =  1.0\n",
      "E[X] =  0.045\n",
      "Var[X] =  0.042975\n",
      "Std[X] =  0.2073041244162788\n",
      "Sample from X =  1\n",
      "10 samples from X = [0 0 0 0 0 0 0 0 0 0]\n"
     ]
    }
   ],
   "source": [
    "X = stats.bernoulli(p=0.045) \n",
    "print('P(0) = ', X.pmf(1))           \n",
    "print('P(x<=2) = ', X.cdf(4))         \n",
    "print('E[X] = ', X.mean())            \n",
    "print('Var[X] = ', X.var())            \n",
    "print('Std[X] = ', X.std())            \n",
    "print('Sample from X = ', X.rvs())            \n",
    "print('10 samples from X =', X.rvs(10))         "
   ]
  },
  {
   "cell_type": "code",
   "execution_count": 6,
   "metadata": {},
   "outputs": [],
   "source": [
    "# print(max(X.rvs(100000)))"
   ]
  },
  {
   "cell_type": "code",
   "execution_count": 7,
   "metadata": {},
   "outputs": [
    {
     "data": {
      "text/plain": [
       "<Container object of 20 artists>"
      ]
     },
     "execution_count": 7,
     "metadata": {},
     "output_type": "execute_result"
    },
    {
     "data": {
      "image/png": "[encoded data removed]",
      "text/plain": [
       "<matplotlib.figure.Figure at 0x7f2a3a07acc0>"
      ]
     },
     "metadata": {},
     "output_type": "display_data"
    }
   ],
   "source": [
    "x = np.arange(0, 2, 0.1)\n",
    "\n",
    "plt.bar(x,X.pmf(x))\n"
   ]
  },
  {
   "cell_type": "markdown",
   "metadata": {},
   "source": [
    "# Binomial distribution "
   ]
  },
  {
   "cell_type": "markdown",
   "metadata": {},
   "source": [
    "\n",
    "$$P(X=k)=\\binom{m}{k} p^{k}(1-p)^{m-k}$$\n",
    "where:\n",
    "$$\\binom{m}{k}=\\frac{m!}{k!(m-k)!}$$\n",
    "\n",
    "In literature:\n",
    "\n",
    "```X ~ Binomial(p,10)```"
   ]
  },
  {
   "cell_type": "code",
   "execution_count": 10,
   "metadata": {},
   "outputs": [
    {
     "name": "stdout",
     "output_type": "stream",
     "text": [
      "P(0) =  0.03125\n",
      "P(x<=2) =  0.96875\n",
      "E[X] =  2.5\n",
      "Var[X] =  1.25\n",
      "Std[X] =  1.118033988749895\n",
      "Sample from X =  2\n",
      "10 samples from X = [3 3 2 1 4 1 4 3 2 2]\n"
     ]
    }
   ],
   "source": [
    "X = stats.binom(n=5,p=0.5) # Declare X to be a binomial random variable\n",
    "print('P(0) = ', X.pmf(0))\n",
    "print('P(x<=2) = ', X.cdf(4))    \n",
    "print('E[X] = ', X.mean())            \n",
    "print('Var[X] = ', X.var())            \n",
    "print('Std[X] = ', X.std())            \n",
    "print('Sample from X = ', X.rvs())            \n",
    "print('10 samples from X =', X.rvs(10))         "
   ]
  },
  {
   "cell_type": "code",
   "execution_count": 11,
   "metadata": {},
   "outputs": [
    {
     "data": {
      "text/plain": [
       "<Container object of 6 artists>"
      ]
     },
     "execution_count": 11,
     "metadata": {},
     "output_type": "execute_result"
    },
    {
     "data": {
      "image/png": "[encoded data removed]",
      "text/plain": [
       "<matplotlib.figure.Figure at 0x7f2a39f3add8>"
      ]
     },
     "metadata": {},
     "output_type": "display_data"
    }
   ],
   "source": [
    "x = np.arange(0, 6, 1)\n",
    "\n",
    "plt.bar(x, X.pmf(x))\n",
    "#plt.plot(x, X.pmf(x))\n"
   ]
  },
  {
   "cell_type": "markdown",
   "metadata": {},
   "source": [
    "#  Uniform Distribution"
   ]
  },
  {
   "cell_type": "code",
   "execution_count": 12,
   "metadata": {},
   "outputs": [],
   "source": [
    "X = np.random.uniform(1,0,1000)\n",
    "   "
   ]
  },
  {
   "cell_type": "code",
   "execution_count": 13,
   "metadata": {},
   "outputs": [
    {
     "data": {
      "text/plain": [
       "[<matplotlib.lines.Line2D at 0x7f2a39f09a20>]"
      ]
     },
     "execution_count": 13,
     "metadata": {},
     "output_type": "execute_result"
    },
    {
     "data": {
      "image/png": "[encoded data removed]",
      "text/plain": [
       "<matplotlib.figure.Figure at 0x7f2a39f09a58>"
      ]
     },
     "metadata": {},
     "output_type": "display_data"
    }
   ],
   "source": [
    "count, bins, ignored = plt.hist(X, 10, density=True)\n",
    "plt.plot(bins, np.ones_like(bins), linewidth=2, color='b')"
   ]
  },
  {
   "cell_type": "markdown",
   "metadata": {},
   "source": [
    "#  Normal Distribution"
   ]
  },
  {
   "cell_type": "markdown",
   "metadata": {},
   "source": [
    "$$ \\displaystyle f(x\\mid \\mu ,\\sigma ^{2})={\\frac {1}{\\sqrt {2\\pi \\sigma ^{2}}}}e^{-{\\frac {(x-\\mu )^{2}}{2\\sigma ^{2}}}} $$\n",
    "\n",
    "where: \n",
    "- $\\mu$ mean\n",
    "- $\\sigma$ standard deviation \n",
    "- $\\sigma ^2$ variance \n",
    "\n",
    "\n",
    "In literature:\n",
    "\n",
    " $$X \\sim \\mathcal{N}(\\mu,\\,\\sigma^{2})\\, $$"
   ]
  },
  {
   "cell_type": "code",
   "execution_count": 14,
   "metadata": {},
   "outputs": [],
   "source": [
    "mu = 0.1\n",
    "sigma = 1\n",
    "\n",
    "X = stats.norm(loc=mu, scale=sigma)\n",
    "\n",
    "# do multiple norms "
   ]
  },
  {
   "cell_type": "code",
   "execution_count": 15,
   "metadata": {},
   "outputs": [
    {
     "name": "stdout",
     "output_type": "stream",
     "text": [
      "P(4) =  0.00019865547139277272\n",
      "P(x<=2) =  0.9712834401839981\n",
      "E[X] =  0.1\n",
      "Var[X] =  1.0\n",
      "Std[X] =  1.0\n",
      "Sample from X =  0.6574456806970492\n",
      "10 samples from X = [ 1.21397029 -0.68307483  0.03151644  1.47181495 -0.40663955  0.1497473\n",
      "  1.61273856 -2.05564904  0.7378334  -1.46582328]\n"
     ]
    }
   ],
   "source": [
    "print('P(4) = ', X.pdf(4))   \n",
    "print('P(x<=2) = ', X.cdf(2))\n",
    "print('E[X] = ', X.mean())            \n",
    "print('Var[X] = ', X.var())            \n",
    "print('Std[X] = ', X.std())            \n",
    "print('Sample from X = ', X.rvs())            \n",
    "print('10 samples from X =', X.rvs(10))      "
   ]
  },
  {
   "cell_type": "code",
   "execution_count": 16,
   "metadata": {},
   "outputs": [
    {
     "data": {
      "text/plain": [
       "[<matplotlib.lines.Line2D at 0x7f2a39e04828>]"
      ]
     },
     "execution_count": 16,
     "metadata": {},
     "output_type": "execute_result"
    },
    {
     "data": {
      "image/png": "[encoded data removed]",
      "text/plain": [
       "<matplotlib.figure.Figure at 0x7f2a39e69278>"
      ]
     },
     "metadata": {},
     "output_type": "display_data"
    }
   ],
   "source": [
    "#%matplotlib notebook\n",
    "\n",
    "x = np.linspace(-4,4,100)\n",
    "pdf = X.pdf(x)\n",
    "plt.plot(x, pdf)"
   ]
  },
  {
   "cell_type": "code",
   "execution_count": 17,
   "metadata": {},
   "outputs": [
    {
     "data": {
      "text/plain": [
       "[<matplotlib.lines.Line2D at 0x7f2a39d77c88>]"
      ]
     },
     "execution_count": 17,
     "metadata": {},
     "output_type": "execute_result"
    },
    {
     "data": {
      "image/png": "[encoded data removed]",
      "text/plain": [
       "<matplotlib.figure.Figure at 0x7f2a39db4908>"
      ]
     },
     "metadata": {},
     "output_type": "display_data"
    }
   ],
   "source": [
    "cdf = X.cdf(x)\n",
    "plt.plot(x,cdf)"
   ]
  },
  {
   "cell_type": "markdown",
   "metadata": {},
   "source": [
    "- Cumulative distribution function (CDF) will give you the probability that a random variable is less than or equal to a certain real number.\n",
    "\n",
    "- Probability mass function (PMF) gives you the probability that a discrete random variable is exactly equal to some real value\n",
    "\n",
    "- Probability density function (PDF) of a random variable X, when integrated over a set of real numbers A, will give the probability that X lies in A."
   ]
  },
  {
   "cell_type": "markdown",
   "metadata": {},
   "source": [
    "# The exponential distribution and Central Limit Theorem (CLT).\n",
    "\n",
    "In a nutshell:\n",
    "\n",
    "Central Limit Theorem is “The central limit theorem (CLT) is a statistical theory that states that given a sufficiently large sample size from a population with a finite level of variance, the mean of all samples from the same population will be approximately equal to the mean of the population. [Source]( https://towardsdatascience.com/understanding-the-central-limit-theorem-642473c63ad8)\n",
    "\n"
   ]
  },
  {
   "cell_type": "markdown",
   "metadata": {},
   "source": [
    "<center>\n",
    "\n",
    "![image](./data/IllustrationCentralTheorem.png)\n",
    "</center>"
   ]
  },
  {
   "cell_type": "markdown",
   "metadata": {},
   "source": [
    "### Exponential distribution\n",
    "\n",
    "\n",
    " $$f(x;\\lambda) = \\begin{cases}\n",
    "\\lambda e^{-\\lambda x} & x \\ge 0, \\\\\n",
    "0 & x < 0.\n",
    "\\end{cases}$$\n",
    "\n"
   ]
  },
  {
   "cell_type": "code",
   "execution_count": 18,
   "metadata": {},
   "outputs": [],
   "source": [
    "# scale = 1/lambda from docs \n",
    "lambda_ = 2\n",
    "X = stats.expon(scale = 1/lambda_)"
   ]
  },
  {
   "cell_type": "code",
   "execution_count": 19,
   "metadata": {},
   "outputs": [
    {
     "name": "stdout",
     "output_type": "stream",
     "text": [
      "P(4) =  0.0006709252558050237\n",
      "P(x<=2) =  0.9816843611112658\n",
      "E[X] =  0.5\n",
      "Var[X] =  0.25\n",
      "Std[X] =  0.5\n",
      "Sample from X =  0.15688800831381025\n",
      "10 samples from X = [0.7003146  0.75766981 0.20225038 0.05650295 0.09621359 1.19970261\n",
      " 0.32206465 0.33366655 0.47850171 0.41000719]\n"
     ]
    }
   ],
   "source": [
    "print('P(4) = ', X.pdf(4))           \n",
    "print('P(x<=2) = ', X.cdf(2))         \n",
    "print('E[X] = ', X.mean())            \n",
    "print('Var[X] = ', X.var())            \n",
    "print('Std[X] = ', X.std())            \n",
    "print('Sample from X = ', X.rvs())            \n",
    "print('10 samples from X =', X.rvs(10))      "
   ]
  },
  {
   "cell_type": "code",
   "execution_count": 20,
   "metadata": {},
   "outputs": [
    {
     "data": {
      "text/plain": [
       "[<matplotlib.lines.Line2D at 0x7f2a39ce8978>]"
      ]
     },
     "execution_count": 20,
     "metadata": {},
     "output_type": "execute_result"
    },
    {
     "data": {
      "image/png": "[encoded data removed]",
      "text/plain": [
       "<matplotlib.figure.Figure at 0x7f2a39dd4c18>"
      ]
     },
     "metadata": {},
     "output_type": "display_data"
    }
   ],
   "source": [
    "x = np.linspace(0,10,100)\n",
    "plt.plot(x, X.pdf(x))"
   ]
  },
  {
   "cell_type": "code",
   "execution_count": null,
   "metadata": {},
   "outputs": [],
   "source": [
    "# number of samples \n",
    "n = 2\n",
    "sample = X.rvs(n)\n",
    "print('Samples: ', sample)\n"
   ]
  },
  {
   "cell_type": "code",
   "execution_count": null,
   "metadata": {},
   "outputs": [],
   "source": [
    "sample = X.rvs(size=(2000, n))\n",
    "sample"
   ]
  },
  {
   "cell_type": "code",
   "execution_count": null,
   "metadata": {},
   "outputs": [],
   "source": [
    "sample.shape"
   ]
  },
  {
   "cell_type": "code",
   "execution_count": null,
   "metadata": {},
   "outputs": [],
   "source": [
    "means = sample.mean(axis=1)\n",
    "means"
   ]
  },
  {
   "cell_type": "code",
   "execution_count": null,
   "metadata": {},
   "outputs": [],
   "source": [
    "means.shape"
   ]
  },
  {
   "cell_type": "code",
   "execution_count": null,
   "metadata": {},
   "outputs": [],
   "source": [
    "\n",
    "plt.hist(means, density=True, bins=20)\n",
    "plt.show()"
   ]
  }
 ],
 "metadata": {
  "kernelspec": {
   "display_name": "Python 3",
   "language": "python",
   "name": "python3"
  },
  "language_info": {
   "codemirror_mode": {
    "name": "ipython",
    "version": 3
   },
   "file_extension": ".py",
   "mimetype": "text/x-python",
   "name": "python",
   "nbconvert_exporter": "python",
   "pygments_lexer": "ipython3",
   "version": "3.6.4"
  }
 },
 "nbformat": 4,
 "nbformat_minor": 2
}
