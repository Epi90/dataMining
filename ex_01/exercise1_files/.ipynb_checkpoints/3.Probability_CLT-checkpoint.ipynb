{
 "cells": [
  {
   "cell_type": "markdown",
   "metadata": {},
   "source": [
    "# Data Mining and Probabilistic Reasoning, WS18/19\n",
    "\n",
    "\n",
    "Dr. Gjergji Kasneci, The University of Tübingen\n",
    "\n",
    "-----\n",
    "## Basics of Probability Theory using Python\n",
    "-----\n",
    "\n",
    "###### Date 29/10/2018\n",
    "\n",
    "Teaching assistants:\n",
    "\n",
    " - Vadim Borisov (vadim.borisov@uni-tuebingen.de)\n",
    "\n",
    " - Johannes Haug (johannes-christian.haug@uni-tuebingen.de)"
   ]
  },
  {
   "cell_type": "code",
   "execution_count": 1,
   "metadata": {},
   "outputs": [
    {
     "data": {
      "text/plain": [
       "<matplotlib.figure.Figure at 0x7f2a6828a9b0>"
      ]
     },
     "execution_count": 1,
     "metadata": {},
     "output_type": "execute_result"
    }
   ],
   "source": [
    "# loading python libraries \n",
    "import numpy as np\n",
    "from scipy import stats\n",
    "\n",
    "import matplotlib.pyplot as plt\n",
    "plt.style.use('ggplot')\n",
    "plt.figure(figsize=(13, 10))\n"
   ]
  },
  {
   "cell_type": "markdown",
   "metadata": {},
   "source": [
    "# Bernoulli distribution "
   ]
  },
  {
   "cell_type": "markdown",
   "metadata": {},
   "source": [
    "\n",
    "$$P(X=x)= p^{x}(1-p)^{1-x}$$\n",
    "\n",
    "\n",
    "In literature:\n",
    "\n",
    "```X ~ Bernoulli(p)```"
   ]
  },
  {
   "cell_type": "code",
   "execution_count": 4,
   "metadata": {},
   "outputs": [
    {
     "name": "stdout",
     "output_type": "stream",
     "text": [
      "P(0) =  0.045000000000000005\n",
      "P(x<=2) =  1.0\n",
      "E[X] =  0.045\n",
      "Var[X] =  0.042975\n",
      "Std[X] =  0.2073041244162788\n",
      "Sample from X =  0\n",
      "10 samples from X = [0 0 0 0 0 0 0 0 0 0]\n"
     ]
    }
   ],
   "source": [
    "X = stats.bernoulli(p=0.045) \n",
    "print('P(0) = ', X.pmf(1))           \n",
    "print('P(x<=2) = ', X.cdf(4))         \n",
    "print('E[X] = ', X.mean())            \n",
    "print('Var[X] = ', X.var())            \n",
    "print('Std[X] = ', X.std())            \n",
    "print('Sample from X = ', X.rvs())            \n",
    "print('10 samples from X =', X.rvs(10))         "
   ]
  },
  {
   "cell_type": "code",
   "execution_count": null,
   "metadata": {},
   "outputs": [],
   "source": [
    "# print(max(X.rvs(100000)))"
   ]
  },
  {
   "cell_type": "code",
   "execution_count": null,
   "metadata": {},
   "outputs": [],
   "source": [
    "x = np.arange(0, 2, 0.1)\n",
    "\n",
    "plt.bar(x,X.pmf(x))\n"
   ]
  },
  {
   "cell_type": "markdown",
   "metadata": {},
   "source": [
    "# Binomial distribution "
   ]
  },
  {
   "cell_type": "markdown",
   "metadata": {},
   "source": [
    "\n",
    "$$P(X=k)=\\binom{m}{k} p^{k}(1-p)^{m-k}$$\n",
    "where:\n",
    "$$\\binom{m}{k}=\\frac{m!}{k!(m-k)!}$$\n",
    "\n",
    "In literature:\n",
    "\n",
    "```X ~ Binomial(p,10)```"
   ]
  },
  {
   "cell_type": "code",
   "execution_count": null,
   "metadata": {},
   "outputs": [],
   "source": [
    "X = stats.binom(n=5,p=0.5) # Declare X to be a binomial random variable\n",
    "print('P(0) = ', X.pmf(0))\n",
    "print('P(x<=2) = ', X.cdf(4))    \n",
    "print('E[X] = ', X.mean())            \n",
    "print('Var[X] = ', X.var())            \n",
    "print('Std[X] = ', X.std())            \n",
    "print('Sample from X = ', X.rvs())            \n",
    "print('10 samples from X =', X.rvs(10))         "
   ]
  },
  {
   "cell_type": "code",
   "execution_count": null,
   "metadata": {},
   "outputs": [],
   "source": [
    "x = np.arange(0, 6, 1)\n",
    "\n",
    "plt.bar(x, X.pmf(x))\n",
    "#plt.plot(x, X.pmf(x))\n"
   ]
  },
  {
   "cell_type": "markdown",
   "metadata": {},
   "source": [
    "#  Uniform Distribution"
   ]
  },
  {
   "cell_type": "code",
   "execution_count": null,
   "metadata": {},
   "outputs": [],
   "source": [
    "X = np.random.uniform(1,0,1000)\n",
    "   "
   ]
  },
  {
   "cell_type": "code",
   "execution_count": null,
   "metadata": {},
   "outputs": [],
   "source": [
    "count, bins, ignored = plt.hist(X, 10, density=True)\n",
    "plt.plot(bins, np.ones_like(bins), linewidth=2, color='b')"
   ]
  },
  {
   "cell_type": "markdown",
   "metadata": {},
   "source": [
    "#  Normal Distribution"
   ]
  },
  {
   "cell_type": "markdown",
   "metadata": {},
   "source": [
    "$$ \\displaystyle f(x\\mid \\mu ,\\sigma ^{2})={\\frac {1}{\\sqrt {2\\pi \\sigma ^{2}}}}e^{-{\\frac {(x-\\mu )^{2}}{2\\sigma ^{2}}}} $$\n",
    "\n",
    "where: \n",
    "- $\\mu$ mean\n",
    "- $\\sigma$ standard deviation \n",
    "- $\\sigma ^2$ variance \n",
    "\n",
    "\n",
    "In literature:\n",
    "\n",
    " $$X \\sim \\mathcal{N}(\\mu,\\,\\sigma^{2})\\, $$"
   ]
  },
  {
   "cell_type": "code",
   "execution_count": null,
   "metadata": {},
   "outputs": [],
   "source": [
    "mu = 0.1\n",
    "sigma = 1\n",
    "\n",
    "X = stats.norm(loc=mu, scale=sigma)\n",
    "\n",
    "# do multiple norms "
   ]
  },
  {
   "cell_type": "code",
   "execution_count": null,
   "metadata": {},
   "outputs": [],
   "source": [
    "print('P(4) = ', X.pdf(4))   \n",
    "print('P(x<=2) = ', X.cdf(2))\n",
    "print('E[X] = ', X.mean())            \n",
    "print('Var[X] = ', X.var())            \n",
    "print('Std[X] = ', X.std())            \n",
    "print('Sample from X = ', X.rvs())            \n",
    "print('10 samples from X =', X.rvs(10))      "
   ]
  },
  {
   "cell_type": "code",
   "execution_count": null,
   "metadata": {},
   "outputs": [],
   "source": [
    "#%matplotlib notebook\n",
    "\n",
    "x = np.linspace(-4,4,100)\n",
    "pdf = X.pdf(x)\n",
    "plt.plot(x, pdf)"
   ]
  },
  {
   "cell_type": "code",
   "execution_count": null,
   "metadata": {},
   "outputs": [],
   "source": [
    "cdf = X.cdf(x)\n",
    "plt.plot(x,cdf)"
   ]
  },
  {
   "cell_type": "markdown",
   "metadata": {},
   "source": [
    "- Cumulative distribution function (CDF) will give you the probability that a random variable is less than or equal to a certain real number.\n",
    "\n",
    "- Probability mass function (PMF) gives you the probability that a discrete random variable is exactly equal to some real value\n",
    "\n",
    "- Probability density function (PDF) of a random variable X, when integrated over a set of real numbers A, will give the probability that X lies in A."
   ]
  },
  {
   "cell_type": "markdown",
   "metadata": {},
   "source": [
    "# The exponential distribution and Central Limit Theorem (CLT).\n",
    "\n",
    "In a nutshell:\n",
    "\n",
    "Central Limit Theorem is “The central limit theorem (CLT) is a statistical theory that states that given a sufficiently large sample size from a population with a finite level of variance, the mean of all samples from the same population will be approximately equal to the mean of the population. [Source]( https://towardsdatascience.com/understanding-the-central-limit-theorem-642473c63ad8)\n",
    "\n"
   ]
  },
  {
   "cell_type": "markdown",
   "metadata": {},
   "source": [
    "<center>\n",
    "\n",
    "![image](./data/IllustrationCentralTheorem.png)\n",
    "</center>"
   ]
  },
  {
   "cell_type": "markdown",
   "metadata": {},
   "source": [
    "### Exponential distribution\n",
    "\n",
    "\n",
    " $$f(x;\\lambda) = \\begin{cases}\n",
    "\\lambda e^{-\\lambda x} & x \\ge 0, \\\\\n",
    "0 & x < 0.\n",
    "\\end{cases}$$\n",
    "\n"
   ]
  },
  {
   "cell_type": "code",
   "execution_count": null,
   "metadata": {},
   "outputs": [],
   "source": [
    "# scale = 1/lambda from docs \n",
    "lambda_ = 2\n",
    "X = stats.expon(scale = 1/lambda_)"
   ]
  },
  {
   "cell_type": "code",
   "execution_count": null,
   "metadata": {},
   "outputs": [],
   "source": [
    "print('P(4) = ', X.pdf(4))           \n",
    "print('P(x<=2) = ', X.cdf(2))         \n",
    "print('E[X] = ', X.mean())            \n",
    "print('Var[X] = ', X.var())            \n",
    "print('Std[X] = ', X.std())            \n",
    "print('Sample from X = ', X.rvs())            \n",
    "print('10 samples from X =', X.rvs(10))      "
   ]
  },
  {
   "cell_type": "code",
   "execution_count": null,
   "metadata": {},
   "outputs": [],
   "source": [
    "x = np.linspace(0,10,100)\n",
    "plt.plot(x, X.pdf(x))"
   ]
  },
  {
   "cell_type": "code",
   "execution_count": null,
   "metadata": {},
   "outputs": [],
   "source": [
    "# number of samples \n",
    "n = 2\n",
    "sample = X.rvs(n)\n",
    "print('Samples: ', sample)\n"
   ]
  },
  {
   "cell_type": "code",
   "execution_count": null,
   "metadata": {},
   "outputs": [],
   "source": [
    "sample = X.rvs(size=(2000, n))\n",
    "sample"
   ]
  },
  {
   "cell_type": "code",
   "execution_count": null,
   "metadata": {},
   "outputs": [],
   "source": [
    "sample.shape"
   ]
  },
  {
   "cell_type": "code",
   "execution_count": null,
   "metadata": {},
   "outputs": [],
   "source": [
    "means = sample.mean(axis=1)\n",
    "means"
   ]
  },
  {
   "cell_type": "code",
   "execution_count": null,
   "metadata": {},
   "outputs": [],
   "source": [
    "means.shape"
   ]
  },
  {
   "cell_type": "code",
   "execution_count": null,
   "metadata": {},
   "outputs": [],
   "source": [
    "\n",
    "plt.hist(means, density=True, bins=20)\n",
    "plt.show()"
   ]
  }
 ],
 "metadata": {
  "kernelspec": {
   "display_name": "Python 3",
   "language": "python",
   "name": "python3"
  },
  "language_info": {
   "codemirror_mode": {
    "name": "ipython",
    "version": 3
   },
   "file_extension": ".py",
   "mimetype": "text/x-python",
   "name": "python",
   "nbconvert_exporter": "python",
   "pygments_lexer": "ipython3",
   "version": "3.6.4"
  }
 },
 "nbformat": 4,
 "nbformat_minor": 2
}
