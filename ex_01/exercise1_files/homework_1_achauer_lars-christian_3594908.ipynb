{
 "cells": [
  {
   "cell_type": "markdown",
   "metadata": {},
   "source": [
    "# Data Mining and Probabilistic Reasoning, WS18/19\n",
    "\n",
    "\n",
    "Dr. Gjergji Kasneci, The University of Tübingen"
   ]
  },
  {
   "cell_type": "markdown",
   "metadata": {},
   "source": [
    "-----\n",
    "## Homework 1\n",
    "-----\n",
    "\n",
    "**Note:** Please add your solution to the homework in this Jupyter Notebook and upload it to Ilias. Make sure you use the following naming convention: `homework_1_[lastname]_[firstname]_[matrikelnr].ipynb`\n",
    "\n",
    "###### Date 29/10/2018\n",
    "\n",
    "Teaching assistants:\n",
    "\n",
    " - Vadim Borisov (vadim.borisov@uni-tuebingen.de)\n",
    "\n",
    " - Johannes Haug (johannes-christian.haug@uni-tuebingen.de)"
   ]
  },
  {
   "cell_type": "markdown",
   "metadata": {},
   "source": [
    "# Load data"
   ]
  },
  {
   "cell_type": "code",
   "execution_count": 31,
   "metadata": {},
   "outputs": [
    {
     "data": {
      "text/plain": [
       "<bound method NDFrame.head of        Type  Fixed_acidity_(g/l)  Volatile_acidity_(g/l)  Citric_acid_(g/l)  \\\n",
       "0       red                  7.4                   0.700               0.00   \n",
       "1       red                  7.8                   0.880               0.00   \n",
       "2       red                  7.8                   0.760               0.04   \n",
       "3       red                 11.2                   0.280               0.56   \n",
       "4       red                  7.4                   0.700               0.00   \n",
       "5       red                  7.4                   0.660               0.00   \n",
       "6       red                  7.9                   0.600               0.06   \n",
       "7       red                  7.3                   0.650               0.00   \n",
       "8       red                  7.8                   0.580               0.02   \n",
       "9       red                  7.5                   0.500               0.36   \n",
       "10      red                  6.7                   0.580               0.08   \n",
       "11      red                  7.5                   0.500               0.36   \n",
       "12      red                  5.6                   0.615               0.00   \n",
       "13      red                  7.8                   0.610               0.29   \n",
       "14      red                  8.9                   0.620               0.18   \n",
       "15      red                  8.9                   0.620               0.19   \n",
       "16      red                  8.5                   0.280               0.56   \n",
       "17      red                  8.1                   0.560               0.28   \n",
       "18      red                  7.4                   0.590               0.08   \n",
       "19      red                  7.9                   0.320               0.51   \n",
       "20      red                  8.9                   0.220               0.48   \n",
       "21      red                  7.6                   0.390               0.31   \n",
       "22      red                  7.9                   0.430               0.21   \n",
       "23      red                  8.5                   0.490               0.11   \n",
       "24      red                  6.9                   0.400               0.14   \n",
       "25      red                  6.3                   0.390               0.16   \n",
       "26      red                  7.6                   0.410               0.24   \n",
       "27      red                  7.9                   0.430               0.21   \n",
       "28      red                  7.1                   0.710               0.00   \n",
       "29      red                  7.8                   0.645               0.00   \n",
       "...     ...                  ...                     ...                ...   \n",
       "6467  white                  5.8                   0.230               0.31   \n",
       "6468  white                  6.6                   0.240               0.33   \n",
       "6469  white                  6.1                   0.320               0.28   \n",
       "6470  white                  5.0                   0.200               0.40   \n",
       "6471  white                  6.0                   0.420               0.41   \n",
       "6472  white                  5.7                   0.210               0.32   \n",
       "6473  white                  5.6                   0.200               0.36   \n",
       "6474  white                  7.4                   0.220               0.26   \n",
       "6475  white                  6.2                   0.380               0.42   \n",
       "6476  white                  5.9                   0.540               0.00   \n",
       "6477  white                  6.2                   0.530               0.02   \n",
       "6478  white                  6.6                   0.340               0.40   \n",
       "6479  white                  6.6                   0.340               0.40   \n",
       "6480  white                  5.0                   0.235               0.27   \n",
       "6481  white                  5.5                   0.320               0.13   \n",
       "6482  white                  4.9                   0.470               0.17   \n",
       "6483  white                  6.5                   0.330               0.38   \n",
       "6484  white                  6.6                   0.340               0.40   \n",
       "6485  white                  6.2                   0.210               0.28   \n",
       "6486  white                  6.2                   0.410               0.22   \n",
       "6487  white                  6.8                   0.220               0.36   \n",
       "6488  white                  4.9                   0.235               0.27   \n",
       "6489  white                  6.1                   0.340               0.29   \n",
       "6490  white                  5.7                   0.210               0.32   \n",
       "6491  white                  6.5                   0.230               0.38   \n",
       "6492  white                  6.2                   0.210               0.29   \n",
       "6493  white                  6.6                   0.320               0.36   \n",
       "6494  white                  6.5                   0.240               0.19   \n",
       "6495  white                  5.5                   0.290               0.30   \n",
       "6496  white                  6.0                   0.210               0.38   \n",
       "\n",
       "      Residual_sugar_(g/l)  Chlorides_(g/l)  Free_sulfur_dioxide_(mg/l)  \\\n",
       "0                     1.90            0.076                        11.0   \n",
       "1                     2.60            0.098                        25.0   \n",
       "2                     2.30            0.092                        15.0   \n",
       "3                     1.90            0.075                        17.0   \n",
       "4                     1.90            0.076                        11.0   \n",
       "5                     1.80            0.075                        13.0   \n",
       "6                     1.60            0.069                        15.0   \n",
       "7                     1.20            0.065                        15.0   \n",
       "8                     2.00            0.073                         9.0   \n",
       "9                     6.10            0.071                        17.0   \n",
       "10                    1.80            0.097                        15.0   \n",
       "11                    6.10            0.071                        17.0   \n",
       "12                    1.60            0.089                        16.0   \n",
       "13                    1.60            0.114                         9.0   \n",
       "14                    3.80            0.176                        52.0   \n",
       "15                    3.90            0.170                        51.0   \n",
       "16                    1.80            0.092                        35.0   \n",
       "17                    1.70            0.368                        16.0   \n",
       "18                    4.40            0.086                         6.0   \n",
       "19                    1.80            0.341                        17.0   \n",
       "20                    1.80            0.077                        29.0   \n",
       "21                    2.30            0.082                        23.0   \n",
       "22                    1.60            0.106                        10.0   \n",
       "23                    2.30            0.084                         9.0   \n",
       "24                    2.40            0.085                        21.0   \n",
       "25                    1.40            0.080                        11.0   \n",
       "26                    1.80            0.080                         4.0   \n",
       "27                    1.60            0.106                        10.0   \n",
       "28                    1.90            0.080                        14.0   \n",
       "29                    2.00            0.082                         8.0   \n",
       "...                    ...              ...                         ...   \n",
       "6467                  4.50            0.046                        42.0   \n",
       "6468                 10.10            0.032                         8.0   \n",
       "6469                  6.60            0.021                        29.0   \n",
       "6470                  1.90            0.015                        20.0   \n",
       "6471                 12.40            0.032                        50.0   \n",
       "6472                  1.60            0.030                        33.0   \n",
       "6473                  2.50            0.048                        16.0   \n",
       "6474                  1.20            0.035                        18.0   \n",
       "6475                  2.50            0.038                        34.0   \n",
       "6476                  0.80            0.032                        12.0   \n",
       "6477                  0.90            0.035                         6.0   \n",
       "6478                  8.10            0.046                        68.0   \n",
       "6479                  8.10            0.046                        68.0   \n",
       "6480                 11.75            0.030                        34.0   \n",
       "6481                  1.30            0.037                        45.0   \n",
       "6482                  1.90            0.035                        60.0   \n",
       "6483                  8.30            0.048                        68.0   \n",
       "6484                  8.10            0.046                        68.0   \n",
       "6485                  5.70            0.028                        45.0   \n",
       "6486                  1.90            0.023                         5.0   \n",
       "6487                  1.20            0.052                        38.0   \n",
       "6488                 11.75            0.030                        34.0   \n",
       "6489                  2.20            0.036                        25.0   \n",
       "6490                  0.90            0.038                        38.0   \n",
       "6491                  1.30            0.032                        29.0   \n",
       "6492                  1.60            0.039                        24.0   \n",
       "6493                  8.00            0.047                        57.0   \n",
       "6494                  1.20            0.041                        30.0   \n",
       "6495                  1.10            0.022                        20.0   \n",
       "6496                  0.80            0.020                        22.0   \n",
       "\n",
       "      Total_sulfur_dioxide_(mg/l)  Density_(g/cm3)    pH  Sulphates_(g/l)  \\\n",
       "0                            34.0          0.99780  3.51             0.56   \n",
       "1                            67.0          0.99680  3.20             0.68   \n",
       "2                            54.0          0.99700  3.26             0.65   \n",
       "3                            60.0          0.99800  3.16             0.58   \n",
       "4                            34.0          0.99780  3.51             0.56   \n",
       "5                            40.0          0.99780  3.51             0.56   \n",
       "6                            59.0          0.99640  3.30             0.46   \n",
       "7                            21.0          0.99460  3.39             0.47   \n",
       "8                            18.0          0.99680  3.36             0.57   \n",
       "9                           102.0          0.99780  3.35             0.80   \n",
       "10                           65.0          0.99590  3.28             0.54   \n",
       "11                          102.0          0.99780  3.35             0.80   \n",
       "12                           59.0          0.99430  3.58             0.52   \n",
       "13                           29.0          0.99740  3.26             1.56   \n",
       "14                          145.0          0.99860  3.16             0.88   \n",
       "15                          148.0          0.99860  3.17             0.93   \n",
       "16                          103.0          0.99690  3.30             0.75   \n",
       "17                           56.0          0.99680  3.11             1.28   \n",
       "18                           29.0          0.99740  3.38             0.50   \n",
       "19                           56.0          0.99690  3.04             1.08   \n",
       "20                           60.0          0.99680  3.39             0.53   \n",
       "21                           71.0          0.99820  3.52             0.65   \n",
       "22                           37.0          0.99660  3.17             0.91   \n",
       "23                           67.0          0.99680  3.17             0.53   \n",
       "24                           40.0          0.99680  3.43             0.63   \n",
       "25                           23.0          0.99550  3.34             0.56   \n",
       "26                           11.0          0.99620  3.28             0.59   \n",
       "27                           37.0          0.99660  3.17             0.91   \n",
       "28                           35.0          0.99720  3.47             0.55   \n",
       "29                           16.0          0.99640  3.38             0.59   \n",
       "...                           ...              ...   ...              ...   \n",
       "6467                        124.0          0.99324  3.31             0.64   \n",
       "6468                         81.0          0.99626  3.19             0.51   \n",
       "6469                        132.0          0.99188  3.15             0.36   \n",
       "6470                         98.0          0.98970  3.37             0.55   \n",
       "6471                        179.0          0.99622  3.14             0.60   \n",
       "6472                        122.0          0.99044  3.33             0.52   \n",
       "6473                        125.0          0.99282  3.49             0.49   \n",
       "6474                         97.0          0.99245  3.12             0.41   \n",
       "6475                        117.0          0.99132  3.36             0.59   \n",
       "6476                         82.0          0.99286  3.25             0.36   \n",
       "6477                         81.0          0.99234  3.24             0.35   \n",
       "6478                        170.0          0.99494  3.15             0.50   \n",
       "6479                        170.0          0.99494  3.15             0.50   \n",
       "6480                        118.0          0.99540  3.07             0.50   \n",
       "6481                        156.0          0.99184  3.26             0.38   \n",
       "6482                        148.0          0.98964  3.27             0.35   \n",
       "6483                        174.0          0.99492  3.14             0.50   \n",
       "6484                        170.0          0.99494  3.15             0.50   \n",
       "6485                        121.0          0.99168  3.21             1.08   \n",
       "6486                         56.0          0.98928  3.04             0.79   \n",
       "6487                        127.0          0.99330  3.04             0.54   \n",
       "6488                        118.0          0.99540  3.07             0.50   \n",
       "6489                        100.0          0.98938  3.06             0.44   \n",
       "6490                        121.0          0.99074  3.24             0.46   \n",
       "6491                        112.0          0.99298  3.29             0.54   \n",
       "6492                         92.0          0.99114  3.27             0.50   \n",
       "6493                        168.0          0.99490  3.15             0.46   \n",
       "6494                        111.0          0.99254  2.99             0.46   \n",
       "6495                        110.0          0.98869  3.34             0.38   \n",
       "6496                         98.0          0.98941  3.26             0.32   \n",
       "\n",
       "      Alcohol_(%)  quality  \n",
       "0        9.400000        5  \n",
       "1        9.800000        5  \n",
       "2        9.800000        5  \n",
       "3        9.800000        6  \n",
       "4        9.400000        5  \n",
       "5        9.400000        5  \n",
       "6        9.400000        5  \n",
       "7       10.000000        7  \n",
       "8        9.500000        7  \n",
       "9       10.500000        5  \n",
       "10       9.200000        5  \n",
       "11      10.500000        5  \n",
       "12       9.900000        5  \n",
       "13       9.100000        5  \n",
       "14       9.200000        5  \n",
       "15       9.200000        5  \n",
       "16      10.500000        7  \n",
       "17       9.300000        5  \n",
       "18       9.000000        4  \n",
       "19       9.200000        6  \n",
       "20       9.400000        6  \n",
       "21       9.700000        5  \n",
       "22       9.500000        5  \n",
       "23       9.400000        5  \n",
       "24       9.700000        6  \n",
       "25       9.300000        5  \n",
       "26       9.500000        5  \n",
       "27       9.500000        5  \n",
       "28       9.400000        5  \n",
       "29       9.800000        6  \n",
       "...           ...      ...  \n",
       "6467    10.800000        6  \n",
       "6468     9.800000        6  \n",
       "6469    11.450000        7  \n",
       "6470    12.050000        6  \n",
       "6471     9.700000        5  \n",
       "6472    11.900000        6  \n",
       "6473    10.000000        6  \n",
       "6474     9.700000        6  \n",
       "6475    11.600000        7  \n",
       "6476     8.800000        5  \n",
       "6477     9.500000        4  \n",
       "6478     9.533333        6  \n",
       "6479     9.533333        6  \n",
       "6480     9.400000        6  \n",
       "6481    10.700000        5  \n",
       "6482    11.500000        6  \n",
       "6483     9.600000        5  \n",
       "6484     9.550000        6  \n",
       "6485    12.150000        7  \n",
       "6486    13.000000        7  \n",
       "6487     9.200000        5  \n",
       "6488     9.400000        6  \n",
       "6489    11.800000        6  \n",
       "6490    10.600000        6  \n",
       "6491     9.700000        5  \n",
       "6492    11.200000        6  \n",
       "6493     9.600000        5  \n",
       "6494     9.400000        6  \n",
       "6495    12.800000        7  \n",
       "6496    11.800000        6  \n",
       "\n",
       "[6497 rows x 13 columns]>"
      ]
     },
     "execution_count": 31,
     "metadata": {},
     "output_type": "execute_result"
    }
   ],
   "source": [
    "import pandas as pd\n",
    "import numpy as np\n",
    "\n",
    "wine = pd.read_csv('./data/wine_data.csv', delim_whitespace=1) #you might have to change the path!\n",
    "wine.head"
   ]
  },
  {
   "cell_type": "markdown",
   "metadata": {},
   "source": [
    "## 1. Task: Function to compute the variance\n",
    "Implement a Python function that takes a variable (as pandas Series) as an input and returns its variance. Do not use the build in functions of pandas or numpy! Remember how we computed the variance during the exercise session."
   ]
  },
  {
   "cell_type": "code",
   "execution_count": 2,
   "metadata": {},
   "outputs": [],
   "source": [
    "def calc_var(pd_db):\n",
    "    sum = 0\n",
    "    mean = 0\n",
    "    \n",
    "    #calc mean\n",
    "    for data in pd_db:\n",
    "        sum += data\n",
    "    mean = sum / len(pd_db)\n",
    "    \n",
    "    #calc variance\n",
    "    sum_of_squares = 0\n",
    "    for data in pd_db:\n",
    "        sum_of_squares += (abs(data - mean))**2\n",
    "    var = sum_of_squares / len(pd_db)\n",
    "    \n",
    "    return var"
   ]
  },
  {
   "cell_type": "code",
   "execution_count": 3,
   "metadata": {},
   "outputs": [
    {
     "data": {
      "text/plain": [
       "0.025848545212458888"
      ]
     },
     "execution_count": 3,
     "metadata": {},
     "output_type": "execute_result"
    }
   ],
   "source": [
    "calc_var(wine['pH'])"
   ]
  },
  {
   "cell_type": "code",
   "execution_count": 4,
   "metadata": {},
   "outputs": [
    {
     "data": {
      "text/plain": [
       "0.025852524360428786"
      ]
     },
     "execution_count": 4,
     "metadata": {},
     "output_type": "execute_result"
    }
   ],
   "source": [
    "wine['pH'].var()"
   ]
  },
  {
   "cell_type": "markdown",
   "metadata": {},
   "source": [
    "## 2. Task: Function to compute covariance\n",
    "Implement a Python function that takes two variables (as pandas Series) as an input and returns their covariance. Do not use the build in functions of pandas or numpy! Remember how we computed the covariance during the exercise session."
   ]
  },
  {
   "cell_type": "code",
   "execution_count": 17,
   "metadata": {},
   "outputs": [
    {
     "data": {
      "text/plain": [
       "0.0027383406068307403"
      ]
     },
     "execution_count": 17,
     "metadata": {},
     "output_type": "execute_result"
    }
   ],
   "source": [
    "def calc_cov(pd_db1, pd_db2):\n",
    "    sum = 0\n",
    "    mean1 = 0\n",
    "    mean2 = 0\n",
    "    \n",
    "    #calc mean 1\n",
    "    for data in pd_db1:\n",
    "        sum += data\n",
    "    mean1 = sum / len(pd_db1)\n",
    "    \n",
    "    \n",
    "    #calc mean 2\n",
    "    sum = 0\n",
    "    for data in pd_db2:\n",
    "        sum += data\n",
    "    mean2 = sum / len(pd_db2)\n",
    "    \n",
    "    #calc sum_covar\n",
    "    sum_covar = 0\n",
    "    for x,y in zip(pd_db1,pd_db2):\n",
    "        sum_covar += (x-mean1)*(y-mean2)\n",
    "    \n",
    "    return sum_covar/len(pd_db1)\n",
    "\n",
    "#test\n",
    "calc_cov(wine['pH'],wine['quality'])"
   ]
  },
  {
   "cell_type": "code",
   "execution_count": 13,
   "metadata": {},
   "outputs": [
    {
     "data": {
      "text/plain": [
       "0.0027383406068307893"
      ]
     },
     "execution_count": 13,
     "metadata": {},
     "output_type": "execute_result"
    }
   ],
   "source": [
    "np.cov(wine[['pH','quality']],rowvar=False, bias=True)[0][1]"
   ]
  },
  {
   "cell_type": "markdown",
   "metadata": {},
   "source": [
    "## 3. Task: Function to compute correlation\n",
    "Implement a Python function that takes the covariance and the standard deviation of two variables as an input and returns their Pearson correlation coefficient. Do not use the build in functions of pandas or numpy! Remember how we computed the correlation during the exercise session. Also remember the relationship between standard deviation and variance."
   ]
  },
  {
   "cell_type": "code",
   "execution_count": 20,
   "metadata": {},
   "outputs": [
    {
     "data": {
      "text/plain": [
       "0.019505703714435732"
      ]
     },
     "execution_count": 20,
     "metadata": {},
     "output_type": "execute_result"
    }
   ],
   "source": [
    "def calc_corr(pd1,pd2):\n",
    "    #like in the tutorial, correlation = C/(s_x*s_y)\n",
    "    correlation = calc_cov(pd1,pd2) / (np.sqrt(calc_var(pd1))*np.sqrt(calc_var(pd2)))\n",
    "    \n",
    "    return correlation\n",
    "calc_corr(wine['pH'],wine['quality'])"
   ]
  },
  {
   "cell_type": "code",
   "execution_count": 23,
   "metadata": {},
   "outputs": [
    {
     "data": {
      "text/plain": [
       "0.019505703714435867"
      ]
     },
     "execution_count": 23,
     "metadata": {},
     "output_type": "execute_result"
    }
   ],
   "source": [
    "np.corrcoef(wine[['pH','quality']], rowvar=False)[0][1]"
   ]
  },
  {
   "cell_type": "markdown",
   "metadata": {},
   "source": [
    "## 4. Task: Compute metrics for different variables\n",
    "Compute the variance, covariance and correlation of 3 different combinations of variables. Use the functions implemented before."
   ]
  },
  {
   "cell_type": "code",
   "execution_count": 28,
   "metadata": {},
   "outputs": [
    {
     "name": "stdout",
     "output_type": "stream",
     "text": [
      "Alcohol & Density: var_alc = 1.4223, var_dens = 1e-05, cov = -0.0025, corr = -0.6867\n",
      "Residual Sugar & Sulfur Dioxide: var_sug = 22.6332, var_sulf = 3194.2283, cov = 133.2243, corr = 0.4955\n",
      "Acidity & Chlorides: var_acd = 0.0271, var_chl = 0.0012, cov = 0.0022, corr = 0.3771\n"
     ]
    }
   ],
   "source": [
    "#Variables: Alcohol_(%), Density_(g/cm3)\n",
    "var_alc = calc_var(wine['Alcohol_(%)'])\n",
    "var_dens = calc_var(wine['Density_(g/cm3)'])\n",
    "cov_alc_dens = calc_cov(wine['Alcohol_(%)'], wine['Density_(g/cm3)'])\n",
    "corr_alc_dens = calc_corr(wine['Alcohol_(%)'], wine['Density_(g/cm3)'])\n",
    "print('Alcohol & Density: var_alc = {}, var_dens = {}, cov = {}, corr = {}'.format(round(var_alc,4),\n",
    "                                                                                   round(var_dens,5),\n",
    "                                                                                   round(cov_alc_dens,4),\n",
    "                                                                                   round(corr_alc_dens,4)))\n",
    "\n",
    "#Variables: Residual_sugar_(g/l), Total_sulfur_dioxide_(mg/l)\n",
    "var_sug = calc_var(wine['Residual_sugar_(g/l)'])\n",
    "var_sulf = calc_var(wine['Total_sulfur_dioxide_(mg/l)'])\n",
    "cov_sug_sulf = calc_cov(wine['Residual_sugar_(g/l)'], wine['Total_sulfur_dioxide_(mg/l)'])\n",
    "corr_sug_sulf = calc_corr(wine['Residual_sugar_(g/l)'], wine['Total_sulfur_dioxide_(mg/l)'])\n",
    "print('Residual Sugar & Sulfur Dioxide: var_sug = {}, var_sulf = {}, cov = {}, corr = {}'.format(round(var_sug,4),\n",
    "                                                                                   round(var_sulf,4),\n",
    "                                                                                   round(cov_sug_sulf,4),\n",
    "                                                                                   round(corr_sug_sulf,4)))\n",
    "\n",
    "#variables: Volatile_acidity_(g/l), Chlorides_(g/l)\n",
    "var_acd = calc_var(wine['Volatile_acidity_(g/l)'])\n",
    "var_chl = calc_var(wine['Chlorides_(g/l)'])\n",
    "cov_acd_chl = calc_cov(wine['Volatile_acidity_(g/l)'],wine['Chlorides_(g/l)'])\n",
    "corr_acd_chl = calc_corr(wine['Volatile_acidity_(g/l)'],wine['Chlorides_(g/l)'])\n",
    "print('Acidity & Chlorides: var_acd = {}, var_chl = {}, cov = {}, corr = {}'.format(round(var_acd,4),\n",
    "                                                                                   round(var_chl,4),\n",
    "                                                                                   round(cov_acd_chl,4),\n",
    "                                                                                   round(corr_acd_chl,4)))"
   ]
  },
  {
   "cell_type": "markdown",
   "metadata": {},
   "source": [
    "## 5. Task: Count the frequency of the target feature [`quality`] \n",
    "Hint: look into the Pandas tutorial."
   ]
  },
  {
   "cell_type": "code",
   "execution_count": 29,
   "metadata": {},
   "outputs": [
    {
     "data": {
      "text/plain": [
       "6    2836\n",
       "5    2138\n",
       "7    1079\n",
       "4     216\n",
       "8     193\n",
       "3      30\n",
       "9       5\n",
       "Name: quality, dtype: int64"
      ]
     },
     "execution_count": 29,
     "metadata": {},
     "output_type": "execute_result"
    }
   ],
   "source": [
    "wine['quality'].value_counts()"
   ]
  },
  {
   "cell_type": "markdown",
   "metadata": {},
   "source": [
    "## 6. Task: Is it true that mean pH for the Red wine is bigger than White wine?\n",
    "Please answer with using code."
   ]
  },
  {
   "cell_type": "code",
   "execution_count": 67,
   "metadata": {},
   "outputs": [
    {
     "name": "stdout",
     "output_type": "stream",
     "text": [
      "mean red wine = 3.311113195747343 , mean white wine = 3.1882666394446693\n"
     ]
    }
   ],
   "source": [
    "#using numpy mean\n",
    "\n",
    "redWine = wine[wine['Type'].str.contains(\"red\")]\n",
    "whiteWine = wine[wine['Type'].str.contains(\"white\")]\n",
    "\n",
    "meanRed = redWine['pH'].mean()\n",
    "meanWhite = whiteWine['pH'].mean()\n",
    "\n",
    "print('mean red wine = ' + str(meanRed) + ' , mean white wine = ' + str(meanWhite))"
   ]
  },
  {
   "cell_type": "markdown",
   "metadata": {},
   "source": [
    "Yes it is true."
   ]
  }
 ],
 "metadata": {
  "kernelspec": {
   "display_name": "Python 3",
   "language": "python",
   "name": "python3"
  },
  "language_info": {
   "codemirror_mode": {
    "name": "ipython",
    "version": 3
   },
   "file_extension": ".py",
   "mimetype": "text/x-python",
   "name": "python",
   "nbconvert_exporter": "python",
   "pygments_lexer": "ipython3",
   "version": "3.6.4"
  }
 },
 "nbformat": 4,
 "nbformat_minor": 2
}
