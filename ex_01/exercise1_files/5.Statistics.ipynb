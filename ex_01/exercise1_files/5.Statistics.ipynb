{
 "cells": [
  {
   "cell_type": "markdown",
   "metadata": {},
   "source": [
    "# Data Mining and Probabilistic Reasoning, WS18/19\n",
    "\n",
    "\n",
    "Dr. Gjergji Kasneci, The University of Tübingen"
   ]
  },
  {
   "cell_type": "markdown",
   "metadata": {},
   "source": [
    "-----\n",
    "## Statistics in Python Tutorial\n",
    "-----\n",
    "\n",
    "###### Date 29/10/2018\n",
    "\n",
    "Teaching assistants:\n",
    "\n",
    " - Vadim Borisov (vadim.borisov@uni-tuebingen.de)\n",
    "\n",
    " - Johannes Haug (johannes-christian.haug@uni-tuebingen.de)"
   ]
  },
  {
   "cell_type": "markdown",
   "metadata": {},
   "source": [
    "# Load dataset"
   ]
  },
  {
   "cell_type": "code",
   "execution_count": 1,
   "metadata": {},
   "outputs": [],
   "source": [
    "import pandas as pd\n",
    "import numpy as np\n",
    "import matplotlib.pyplot as plt\n",
    "plt.style.use('ggplot')\n",
    "\n",
    "flats = pd.read_csv('./data/flats_tuebingen.csv', encoding = \"utf-8\")\n",
    "wine = pd.read_csv('./data/wine_data.csv', delim_whitespace=1)"
   ]
  },
  {
   "cell_type": "markdown",
   "metadata": {},
   "source": [
    "# Mean, Median, Mode & Standard Deviation\n",
    "Each dataset can be described in terms of certain characteristics/metrics. Mean, median, mode and standard deviation belong to the basic metrics a data scientist should be aware of. We will introduce those metrics before targeting some of the more complex concepts.\n",
    "\n",
    "## The dataset\n",
    "Imagine you are currently looking for a flat in Tübingen. It's difficult to choose a flat without having knowledge about the real estate market. How would we know what is a fair rent and what is not? Some basic metrics might help us to make a decision.<br>\n",
    "We found the following 10 flats on wg-gesucht for Tübingen:"
   ]
  },
  {
   "cell_type": "code",
   "execution_count": 2,
   "metadata": {},
   "outputs": [
    {
     "data": {
      "text/html": [
       "<div>\n",
       "<style scoped>\n",
       "    .dataframe tbody tr th:only-of-type {\n",
       "        vertical-align: middle;\n",
       "    }\n",
       "\n",
       "    .dataframe tbody tr th {\n",
       "        vertical-align: top;\n",
       "    }\n",
       "\n",
       "    .dataframe thead th {\n",
       "        text-align: right;\n",
       "    }\n",
       "</style>\n",
       "<table border=\"1\" class=\"dataframe\">\n",
       "  <thead>\n",
       "    <tr style=\"text-align: right;\">\n",
       "      <th></th>\n",
       "      <th>flat_no</th>\n",
       "      <th>rent</th>\n",
       "      <th>size</th>\n",
       "      <th>location</th>\n",
       "    </tr>\n",
       "  </thead>\n",
       "  <tbody>\n",
       "    <tr>\n",
       "      <th>0</th>\n",
       "      <td>1</td>\n",
       "      <td>200</td>\n",
       "      <td>20</td>\n",
       "      <td>Oesterberg</td>\n",
       "    </tr>\n",
       "    <tr>\n",
       "      <th>1</th>\n",
       "      <td>2</td>\n",
       "      <td>587</td>\n",
       "      <td>21</td>\n",
       "      <td>Innenstadt</td>\n",
       "    </tr>\n",
       "    <tr>\n",
       "      <th>2</th>\n",
       "      <td>3</td>\n",
       "      <td>185</td>\n",
       "      <td>22</td>\n",
       "      <td>Oesterberg</td>\n",
       "    </tr>\n",
       "    <tr>\n",
       "      <th>3</th>\n",
       "      <td>4</td>\n",
       "      <td>420</td>\n",
       "      <td>15</td>\n",
       "      <td>Waldhaeuser-Ost</td>\n",
       "    </tr>\n",
       "    <tr>\n",
       "      <th>4</th>\n",
       "      <td>5</td>\n",
       "      <td>350</td>\n",
       "      <td>22</td>\n",
       "      <td>Lustnau</td>\n",
       "    </tr>\n",
       "    <tr>\n",
       "      <th>5</th>\n",
       "      <td>6</td>\n",
       "      <td>420</td>\n",
       "      <td>11</td>\n",
       "      <td>Weststadt</td>\n",
       "    </tr>\n",
       "    <tr>\n",
       "      <th>6</th>\n",
       "      <td>7</td>\n",
       "      <td>200</td>\n",
       "      <td>16</td>\n",
       "      <td>Oesterberg</td>\n",
       "    </tr>\n",
       "    <tr>\n",
       "      <th>7</th>\n",
       "      <td>8</td>\n",
       "      <td>570</td>\n",
       "      <td>20</td>\n",
       "      <td>Weststadt</td>\n",
       "    </tr>\n",
       "    <tr>\n",
       "      <th>8</th>\n",
       "      <td>9</td>\n",
       "      <td>185</td>\n",
       "      <td>15</td>\n",
       "      <td>Innenstadt</td>\n",
       "    </tr>\n",
       "    <tr>\n",
       "      <th>9</th>\n",
       "      <td>10</td>\n",
       "      <td>430</td>\n",
       "      <td>16</td>\n",
       "      <td>Innenstadt</td>\n",
       "    </tr>\n",
       "  </tbody>\n",
       "</table>\n",
       "</div>"
      ],
      "text/plain": [
       "   flat_no  rent  size         location\n",
       "0        1   200    20       Oesterberg\n",
       "1        2   587    21       Innenstadt\n",
       "2        3   185    22       Oesterberg\n",
       "3        4   420    15  Waldhaeuser-Ost\n",
       "4        5   350    22          Lustnau\n",
       "5        6   420    11        Weststadt\n",
       "6        7   200    16       Oesterberg\n",
       "7        8   570    20        Weststadt\n",
       "8        9   185    15       Innenstadt\n",
       "9       10   430    16       Innenstadt"
      ]
     },
     "execution_count": 2,
     "metadata": {},
     "output_type": "execute_result"
    }
   ],
   "source": [
    "flats"
   ]
  },
  {
   "cell_type": "markdown",
   "metadata": {},
   "source": [
    "## Mean\n",
    "Let's calcualate the average rent for our 10 flats. The average of a set of values can be described in terms of their mean $\\bar{X}$ (with the number of values $n$): $$\\bar{X} = \\frac{1}{n}\\sum^n_{i=1}x_i$$\n",
    "We can use the mean function provided by pandas to calculate the mean rent for our flats:"
   ]
  },
  {
   "cell_type": "code",
   "execution_count": 3,
   "metadata": {},
   "outputs": [
    {
     "name": "stdout",
     "output_type": "stream",
     "text": [
      "The average rent of our 10 flats is 355€\n"
     ]
    }
   ],
   "source": [
    "mean = flats['rent'].mean()\n",
    "print('The average rent of our 10 flats is {}€'.format(round(mean)))"
   ]
  },
  {
   "cell_type": "markdown",
   "metadata": {},
   "source": [
    "## Median\n",
    "The median is the middle value of a sorted list. If we sort our flats based on the rent we can see that the median of the rent column could be either 350€ or 420€. In case of an even number of values $n$ we take the mean of the two candidate values and define that our median. In our case that would be $$Median = \\frac{350€+420€}{2} = 385€$$ Since it becomes quite cumbersome to detect the median for large datasets by simply looking at the data, pandas offers a function to calculate the median for us:"
   ]
  },
  {
   "cell_type": "code",
   "execution_count": 4,
   "metadata": {},
   "outputs": [
    {
     "name": "stdout",
     "output_type": "stream",
     "text": [
      "   flat_no  rent  size         location\n",
      "2        3   185    22       Oesterberg\n",
      "8        9   185    15       Innenstadt\n",
      "0        1   200    20       Oesterberg\n",
      "6        7   200    16       Oesterberg\n",
      "4        5   350    22          Lustnau\n",
      "3        4   420    15  Waldhaeuser-Ost\n",
      "5        6   420    11        Weststadt\n",
      "9       10   430    16       Innenstadt\n",
      "7        8   570    20        Weststadt\n",
      "1        2   587    21       Innenstadt\n",
      "The median for the rent column of our dataset is 385€\n"
     ]
    }
   ],
   "source": [
    "print(flats.sort_values(by=['rent']))\n",
    "\n",
    "median = flats['rent'].median()\n",
    "print('The median for the rent column of our dataset is {}€'.format(round(median)))"
   ]
  },
  {
   "cell_type": "markdown",
   "metadata": {},
   "source": [
    "## Mode\n",
    "We call the most frequent value of a dataset its mode. If we have a look at our rents, we can see that the values 185€, 200€ and 420€ all appear twice, which is why we have a total of 3 modes for the rent column of our dataset. Let's confirm this with the pandas function for the mode:"
   ]
  },
  {
   "cell_type": "code",
   "execution_count": 5,
   "metadata": {},
   "outputs": [
    {
     "name": "stdout",
     "output_type": "stream",
     "text": [
      "The modes for the rent column of our dataset are 185€, 200€ and 420€.\n"
     ]
    }
   ],
   "source": [
    "mode = flats['rent'].mode()\n",
    "print('The modes for the rent column of our dataset are {}€, {}€ and {}€.'.format(*mode.values))"
   ]
  },
  {
   "cell_type": "markdown",
   "metadata": {},
   "source": [
    "## Standard deviation\n",
    "So now we know that people are paying a rent of 355€ on average (mean) and that the rents most often payed are 185€, 200€ and 420€. Yet it would be interesting to know how much rents differ among one another. The standard deviation tells us how far values spread from the mean $\\bar{X}$: $$S = \\sqrt{\\frac{1}{n} \\sum^n_{i=1}(x_i-\\bar{X})^2}$$\n",
    "Again we can use a pandas function to calculate the standard deviation for the rent column of our dataset:"
   ]
  },
  {
   "cell_type": "code",
   "execution_count": 6,
   "metadata": {},
   "outputs": [
    {
     "name": "stdout",
     "output_type": "stream",
     "text": [
      "The standard deviation for the rent column is 156.35€.\n"
     ]
    }
   ],
   "source": [
    "std = flats['rent'].std()\n",
    "print('The standard deviation for the rent column is {}€.'.format(round(std,2)))"
   ]
  },
  {
   "cell_type": "markdown",
   "metadata": {},
   "source": [
    "This standard deviation seems pretty big, which is caused by the small size of our dataset. Adding additional values to the dataset would make it appear more normally distributed. Let's have a look at the actual distribution of our dataset by plotting the histogram and Probability Density Function (PDF) for the rent column:"
   ]
  },
  {
   "cell_type": "code",
   "execution_count": null,
   "metadata": {},
   "outputs": [],
   "source": [
    "fig, axs = plt.subplots(1, 2, figsize=(10, 5))\n",
    "axs[0].hist(flats['rent'], bins= int(400/7))\n",
    "axs[0].set_title('Histogram of the Rent')\n",
    "axs[0].set_xlabel('Rents in €')\n",
    "axs[0].set_ylabel('Appearances')\n",
    "\n",
    "axs[1] = flats['rent'].plot.kde()\n",
    "axs[1].set_title('Probability Density Function of the Rent')\n",
    "axs[1].set_xlabel('Rents in €')\n",
    "\n",
    "plt.subplots_adjust(wspace=0.5)\n",
    "plt.show()"
   ]
  },
  {
   "cell_type": "markdown",
   "metadata": {},
   "source": [
    "# The Wine dataset\n",
    "Now that we understand how to calculate basic statistical metrics in Python, we want to continue with some of the more complex ones. For that we will introduce a new dataset: the wine dataset. Let's have a quick look at the first 5 entries to familiarize with the data: "
   ]
  },
  {
   "cell_type": "code",
   "execution_count": null,
   "metadata": {
    "scrolled": true
   },
   "outputs": [],
   "source": [
    "wine.head()"
   ]
  },
  {
   "cell_type": "markdown",
   "metadata": {},
   "source": [
    "The dataset is the result of a quality assessement of different red and white variants of the Portuguese \"Vinho Verde\" wine. Each wine is represented as a row in the dataset, including different objective tests (see all features except the *quality*). The *quality* is the median of at least 3 evaluations by different experts, where 0 indicates a \"very bad\" and 10 indicates a \"very excellent\" wine. For more information about the data consult the official [description](http://archive.ics.uci.edu/ml/datasets/Wine+Quality?ref=datanews.io)."
   ]
  },
  {
   "cell_type": "markdown",
   "metadata": {},
   "source": [
    "# Variance\n",
    "The variance of a variable describes how much its values are spread. It is the squared standard deviation and can thus be described as follows (with mean $\\bar{X}$ and the number of values $n$): $$S^2_{em} = \\frac{1}{n} \\sum^n_{i=1}(x_i-\\bar{X})^2$$\n",
    "In the following we calculate the variance for the *pH* variable of our wine dataset on our own. We can evaluate our result by comparing it against the outcome of the *numpy.var()* function:"
   ]
  },
  {
   "cell_type": "code",
   "execution_count": null,
   "metadata": {},
   "outputs": [],
   "source": [
    "pH = wine['pH'] \n",
    "n = len(wine)\n",
    "X = pH.mean()\n",
    "\n",
    "sum_of_X_diff = 0\n",
    "\n",
    "for x in pH:\n",
    "    sum_of_X_diff += (x-X)**2\n",
    "    \n",
    "S = sum_of_X_diff/n\n",
    "\n",
    "print(\"Variance of pH as calculated with our code: {0:.4f}\".format(S))\n",
    "\n",
    "#check our result against the built in variance function of numpy\n",
    "print(\"Variance of pH as calculated with numpy.var(): {0:.4f}\".format(np.var(wine['pH'])))"
   ]
  },
  {
   "cell_type": "markdown",
   "metadata": {},
   "source": [
    "# Covariance\n",
    "The covariance describes the dependency between two variables. It is a measure indicating whether the increase in one variable is associated with the increase in another. It can be described as follows (with means $\\bar{X}$ and $\\bar{Y}$ and the amount of values $n$): $$\\hat{C}_{em} = \\frac{1}{n} \\sum^n_{i=1}(x_i - \\bar{X})(y_i - \\bar{Y})$$\n",
    "\n",
    "**Task:** Implement an algorithm that calculates the covariance for the two variables *pH* and *Alcohol_(%)*. Compare your result to the *numpy.cov()* function."
   ]
  },
  {
   "cell_type": "code",
   "execution_count": null,
   "metadata": {},
   "outputs": [],
   "source": [
    "#pH, n and X are already declared\n",
    "alc = wine['Alcohol_(%)']\n",
    "##################SOLUTION#################\n",
    "\n",
    "\n",
    "C = 0\n",
    "##################SOLUTION#################\n",
    "print(\"Covariance of pH and alcohol calculated with your code: {0:.4f}\".format(C))\n",
    "\n",
    "#check your result against the built in covariance function of numpy\n",
    "cov = np.cov(wine[['pH','Alcohol_(%)']], rowvar=False, bias = True) #set bias to True to normalize by n \n",
    "print(\"Covariance of pH and alcohol as calculated with numpy.cov(): {0:.4f}\".format(cov[0,1]))"
   ]
  },
  {
   "cell_type": "markdown",
   "metadata": {},
   "source": [
    "# Correlation\n",
    "The correlation is also an indicator for the relationship between two variables. It is a scaled version of the covariance that can take any value between -1 and 1, where 0 indicates no correlation. The correlation of two variables can be described as follows (with the covariance $\\hat{C}$ and the standard deviations $S_X$ and $S_Y$): $$r = \\frac{\\hat{C}}{S_{X}S_{Y}}$$\n",
    "\n",
    "In this tutorial we always refer to the Pearson correlation coefficient, but be aware that there are other correlation coefficients that might be more suitable in a different (non-linear) scenario. This [paper](http://ljs.academicdirect.ro/A09/179_200.pdf) includes a description of different correlation coefficients.\n",
    "\n",
    "**Task**: Implement an algorithm that calculates the correlation between the two variables *pH* and *Alcohol_(%)*. Compare your result to the *numpy.corrcoef()* function. To calculate the standard deviation you can use the function provided by pandas."
   ]
  },
  {
   "cell_type": "code",
   "execution_count": null,
   "metadata": {},
   "outputs": [],
   "source": [
    "##################SOLUTION#################\n",
    "\n",
    "\n",
    "r = 0\n",
    "##################SOLUTION#################\n",
    "print(\"Correlation of pH and alcohol calculated with your code: {0:.4f}\".format(r))\n",
    "\n",
    "#check your result against the built in covariance function of numpy\n",
    "corr = np.corrcoef(wine[['pH','Alcohol_(%)']], rowvar=False)\n",
    "print(\"Covariance of pH and alcohol as calculated with numpy.cov(): {0:.4f}\".format(corr[0,1]))"
   ]
  },
  {
   "cell_type": "markdown",
   "metadata": {},
   "source": [
    "# Visualize correlation\n",
    "We can use the matplotlib package to visualize relationships among variables. In our case we want to visualize the correlation of *pH* and *Alcohol_(%)* using a scatter plot."
   ]
  },
  {
   "cell_type": "code",
   "execution_count": null,
   "metadata": {},
   "outputs": [],
   "source": [
    "plt.scatter(pH,alc)\n",
    "plt.xlabel('pH')\n",
    "plt.ylabel('Alcohol')\n",
    "plt.show()"
   ]
  },
  {
   "cell_type": "markdown",
   "metadata": {},
   "source": [
    "## Plot correlation as heatmap\n",
    "To get an overview of the correlations among all different variables in the wine dataset, we can plot the pandas correlation matrix of our dataframe as a heatmap:"
   ]
  },
  {
   "cell_type": "code",
   "execution_count": null,
   "metadata": {},
   "outputs": [],
   "source": [
    "cm = wine.corr() #create correlation matrix with pandas corr() function\n",
    "\n",
    "fig, ax = plt.subplots(figsize=(10,10))\n",
    "col = ax.matshow(cm)\n",
    "\n",
    "plt.colorbar(col)\n",
    "plt.xticks(range(len(cm.columns)), cm.columns, rotation = 90)\n",
    "plt.yticks(range(len(cm.columns)), cm.columns)\n",
    "\n",
    "plt.show()"
   ]
  },
  {
   "cell_type": "markdown",
   "metadata": {},
   "source": [
    "## Plot correlation as scatter matrix\n",
    "Alternatively we can plot a matrix containing the scatter chart for each combination of variables. However, this matrix might get confusing with an increasing number of variables. "
   ]
  },
  {
   "cell_type": "code",
   "execution_count": null,
   "metadata": {},
   "outputs": [],
   "source": [
    "pd.plotting.scatter_matrix(wine, figsize=(25,25))\n",
    "plt.show()"
   ]
  }
 ],
 "metadata": {
  "kernelspec": {
   "display_name": "Python 3",
   "language": "python",
   "name": "python3"
  },
  "language_info": {
   "codemirror_mode": {
    "name": "ipython",
    "version": 3
   },
   "file_extension": ".py",
   "mimetype": "text/x-python",
   "name": "python",
   "nbconvert_exporter": "python",
   "pygments_lexer": "ipython3",
   "version": "3.6.4"
  }
 },
 "nbformat": 4,
 "nbformat_minor": 2
}
